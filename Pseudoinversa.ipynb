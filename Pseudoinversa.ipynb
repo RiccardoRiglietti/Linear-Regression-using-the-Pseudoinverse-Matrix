{
  "nbformat": 4,
  "nbformat_minor": 0,
  "metadata": {
    "colab": {
      "provenance": [],
      "collapsed_sections": [
        "13t8SzDECY1T"
      ]
    },
    "kernelspec": {
      "name": "python3",
      "display_name": "Python 3"
    },
    "language_info": {
      "name": "python"
    }
  },
  "cells": [
    {
      "cell_type": "markdown",
      "source": [
        "# Matrice pseudoinversa per la regressione lineare"
      ],
      "metadata": {
        "id": "AE2sKuoLqQZM"
      }
    },
    {
      "cell_type": "markdown",
      "source": [
        "# Introduzione"
      ],
      "metadata": {
        "id": "4uCpnwFvqOAW"
      }
    },
    {
      "cell_type": "markdown",
      "source": [
        "Sia in scienza che in ingegneria è necessario creare modelli che si adattino ai \n",
        "nostri dati, il più semplice dei quali è un modello lineare.\n",
        "\n",
        "Il problema di regressione (o fit) lineare consiste nel trovare la retta che si adatta meglio ad una nuvola di punti dati ed è simile al (ma più difficile del) problema di trovare la linea che passa per un gran numero di punti colineari. La difficoltà è che ovviamente non esiste una linea che passa attraverso tutti i punti in una nuvola di punti non colineari, ovvero del tipo che si ottengono da misurazioni sperimentali (considerando le incertezze e la modellizzazione non perfetta dell'esperimento).\n",
        "\n",
        "Lo scopo di questa lezione è di introdurre la pseudoinversa, lo strumento matematico utilizzato per calcolare la i coefficienti di pendenza e intercetta di un fit lineare, in modo graduale e intuitivo, ed esplorare il potenziale di generalizzazione di tale metodo utilizzando lo stesso codice e gli stessi concetti per stimare i pagamenti per assicurazione medica date altre caratteristiche di salute, un problema di regressione con più variabili di input."
      ],
      "metadata": {
        "id": "ZSzzM_aebrcT"
      }
    },
    {
      "cell_type": "markdown",
      "source": [
        "# Retta passante per 2 punti"
      ],
      "metadata": {
        "id": "sWBIQVbmkuSM"
      }
    },
    {
      "cell_type": "markdown",
      "source": [
        "Come possiamo trovare la linea che passa per 2 punti? Questo è molto semplice, ma un ripasso ci aiuterà a generalizzare nei casi più difficili:\n",
        "\n",
        "\n",
        "\\begin{equation}\n",
        "    \\begin{cases}\n",
        "      m x_0 + c = y_0\\\\\n",
        "      m x_1 + c = y_1\\\\\n",
        "    \\end{cases}\n",
        "\\end{equation}\n",
        "\n",
        "\\begin{equation}\n",
        " \\begin{pmatrix}\n",
        "    x_{0}       & 1  \\\\\n",
        "    x_{1}       & 1 \\\\\n",
        "\\end{pmatrix}  \\begin{pmatrix}\n",
        "    m         \\\\\n",
        "    c        \\\\\n",
        "\\end{pmatrix} = \\begin{pmatrix}\n",
        "    y_0         \\\\\n",
        "    y_1       \\\\\n",
        "\\end{pmatrix}\n",
        "\\end{equation}\n",
        "\n",
        "\n",
        "\\begin{equation}\n",
        "  \\begin{pmatrix}\n",
        "    m         \\\\\n",
        "    c       \\\\ \\end{pmatrix}= \\begin{pmatrix}\n",
        "    x_{0}       & 1  \\\\\n",
        "    x_{1}       & 1 \\\\\n",
        "\\end{pmatrix}^{-1}  \\begin{pmatrix}\n",
        "    y_0         \\\\\n",
        "    y_1        \\\\\n",
        "\\end{pmatrix}\n",
        "\\end{equation}\n",
        "\n",
        "\n",
        "\\begin{equation}\n",
        "  \\begin{pmatrix}\n",
        "    m         \\\\\n",
        "    c       \\\\ \\end{pmatrix}= \\begin{pmatrix}\n",
        "    \\frac{1}{x_0 - x_1}       & \\frac{-1}{x_0 - x_1}  \\\\\n",
        "    -\\frac{x_1}{x_0 - x_1}       & \\frac{x_0}{x_0 - x_1} \\\\\n",
        "\\end{pmatrix}  \\begin{pmatrix}\n",
        "    y_0         \\\\\n",
        "    y_1        \\\\\n",
        "\\end{pmatrix}\n",
        "\\end{equation}\n",
        "\n",
        "\\begin{equation}\n",
        "    \\begin{cases}\n",
        "      m = \\frac{y_0 - y_1}{x_0 - x_1} \\\\\n",
        "      c = y_0 - m x_0 = y_0 - \\frac{y_0 - y_1}{x_0 - x_1} x_0\\\\\n",
        "    \\end{cases}\n",
        "\\end{equation}\n",
        "\n",
        "Diamo un nome ai componenti del sistema per riferirci ad essi in maniera più comoda in futuro:\n",
        "\n",
        "\\begin{equation}\n",
        "  A= \\begin{pmatrix}\n",
        "    x_{0}       & 1  \\\\\n",
        "    x_{1}       & 1 \\\\\n",
        "\\end{pmatrix}\n",
        "\\end{equation}\n",
        "\n",
        "\n",
        "\\begin{equation}\n",
        "  x= \\begin{pmatrix}\n",
        "    m        \\\\\n",
        "    c        \\\\\n",
        "\\end{pmatrix}\n",
        "\\end{equation}\n",
        "\n",
        "\n",
        "\\begin{equation}\n",
        "  b = \\begin{pmatrix}\n",
        "    y_{0}        \\\\\n",
        "    y_{1}       \\\\\n",
        "\\end{pmatrix}\n",
        "\\end{equation}\n",
        "\n",
        "Stai attento! Il vettore $x$ contiene $m$ e $c$ che sono le NOSTRE incognite: in questo problema gli $x_i$, $y_i$ sono dati noti quindi non sono incognite.\n",
        "\n",
        "\n",
        "Il passaggio essenziale per risolvere questo problema è moltiplicare entrambi i membri per l'inversa della matrice $A$ da sinistra. Possiamo notare che l'inversa di $A$ moltiplicata per $A$ è l'identità e sappiamo come calcolare l'inversa di una matrice quadrata non singolare."
      ],
      "metadata": {
        "id": "TVfYeqXxdQin"
      }
    },
    {
      "cell_type": "markdown",
      "source": [
        "# Implementazione della retta passante per 2 punti\n"
      ],
      "metadata": {
        "id": "HI561nackyuE"
      }
    },
    {
      "cell_type": "code",
      "source": [
        "import numpy as np\n",
        "import matplotlib.pyplot as plt\n",
        "\n",
        "points = [(1,3), [2,6]]\n",
        "xs = [point[0] for point in points]\n",
        "ys = [point[1] for point in points]\n",
        "\n",
        "A = np.column_stack( [xs, np.ones(len(xs), dtype=float) ])\n",
        "\n",
        "m_c = np.linalg.inv(A) @ ys\n",
        "\n",
        "def fitted_line(x):\n",
        "    m, c = m_c\n",
        "    return m*x + c\n",
        "\n",
        "plt.scatter(xs, ys)\n",
        "plt.plot(xs, [fitted_line(x) for x in xs])"
      ],
      "metadata": {
        "colab": {
          "base_uri": "https://localhost:8080/",
          "height": 282
        },
        "id": "fcOzqJmtkygc",
        "outputId": "3235d8b4-88eb-48d3-f8d6-e761d228cce7"
      },
      "execution_count": null,
      "outputs": [
        {
          "output_type": "execute_result",
          "data": {
            "text/plain": [
              "[<matplotlib.lines.Line2D at 0x7f3961b5dfd0>]"
            ]
          },
          "metadata": {},
          "execution_count": 1
        },
        {
          "output_type": "display_data",
          "data": {
            "text/plain": [
              "<Figure size 432x288 with 1 Axes>"
            ],
            "image/png": "[encoded data removed]"
          },
          "metadata": {
            "needs_background": "light"
          }
        }
      ]
    },
    {
      "cell_type": "markdown",
      "source": [
        "# E se avessimo 3 punti che sono **quasi** colineari?"
      ],
      "metadata": {
        "id": "86gBR11poAuV"
      }
    },
    {
      "cell_type": "markdown",
      "source": [
        "Proviamo ora a trovare la retta passante per 3 punti non colineari con lo stesso metodo utilizzato sopra:\n",
        "\n",
        "\\begin{equation}\n",
        "    \\begin{cases}\n",
        "      m x_0 + c = y_0\\\\\n",
        "      m x_1 + c = y_1\\\\\n",
        "      m x_2 + c = y_2\\\\\n",
        "    \\end{cases}\n",
        "\\end{equation}\n",
        "\n",
        "Fin qui tutto bene, dobbiamo solo aggiungere una terza equazione simile alle prime due.\n",
        "\n",
        "\\begin{equation}\n",
        " \\begin{pmatrix}\n",
        "    x_{0}       & 1  \\\\\n",
        "    x_{1}       & 1 \\\\\n",
        "    x_{2}       & 1 \\\\\n",
        "\\end{pmatrix}  \\begin{pmatrix}\n",
        "    m         \\\\\n",
        "    c        \\\\\n",
        "\\end{pmatrix} = \\begin{pmatrix}\n",
        "    y_0         \\\\\n",
        "    y_1       \\\\\n",
        "    y_2       \\\\\n",
        "\\end{pmatrix}\n",
        "\\end{equation}\n",
        "\n",
        "Ora dobbiamo solo moltiplicare entrambi i membri per l'inversa della matrice dei coefficienti A... ma A è una matrice 3x2, quindi l'inversa non esiste!\n",
        "\n",
        "In fondo dovevamo aspettarci di trovarci davanti a un passaggio impossibile, abbiamo cercato di trovare qualcosa che non esiste, la retta passante per 3 punti non colineari...\n",
        "\n",
        "Ma comunque, arrendersi non è soddisfacente: immaginiamo che i tre punti in questione siano:\n"
      ],
      "metadata": {
        "id": "k6WWx6x_lO71"
      }
    },
    {
      "cell_type": "code",
      "source": [
        "points = [ (0,0), (1,1), (2.0001, 2)]\n",
        "xs = [point[0] for point in points]\n",
        "ys = [point[1] for point in points]\n",
        "plt.scatter(xs, ys)"
      ],
      "metadata": {
        "colab": {
          "base_uri": "https://localhost:8080/",
          "height": 282
        },
        "id": "psG2uN6GlOi1",
        "outputId": "648ccf1b-f407-4b08-9628-8fd316faa144"
      },
      "execution_count": null,
      "outputs": [
        {
          "output_type": "execute_result",
          "data": {
            "text/plain": [
              "<matplotlib.collections.PathCollection at 0x7f3961ae73d0>"
            ]
          },
          "metadata": {},
          "execution_count": 2
        },
        {
          "output_type": "display_data",
          "data": {
            "text/plain": [
              "<Figure size 432x288 with 1 Axes>"
            ],
            "image/png": "[encoded data removed]"
          },
          "metadata": {
            "needs_background": "light"
          }
        }
      ]
    },
    {
      "cell_type": "markdown",
      "source": [
        "# Approccio intuitivo al problema del fit lineare\n",
        "\n"
      ],
      "metadata": {
        "id": "33jGjKmhpBl3"
      }
    },
    {
      "cell_type": "markdown",
      "source": [
        "Questi punti sono *così vicini* all'essere colineari, ci deve essere qualcosa di meglio da fare che arrendersi!\n",
        "\n",
        "C'è poco da fare sul fatto che il problema come definito prima non è in realtà risolvibile, se i punti non sono colineari nessuna retta li attraversa, questo è un fatto matematico.\n",
        "\n",
        "Tuttavia, possiamo allentare la nostra richiesta e cercare invece la retta \"migliore\" ovvero quella che passa il più vicino possibile a quei punti. Questo è un cambio di prospettiva estremamente potente: nel mondo reale dobbiamo fare i conti con le incertezze, e lo facciamo cercando la retta migliore possibile piuttosto che una retta \"perfetta\" (passante per tutti i punti) che non esiste.\n",
        "\n",
        "In primo luogo proviamo ad affrontare il problema in un modo molto semplice e di buon senso.\n",
        "\n",
        "Abbiamo l'equazione:\n",
        "\n",
        "\\begin{equation}\n",
        "Ax = b\n",
        "\\end{equation}\n",
        "\n",
        "Dove vogliamo trovare $x$ ma $A$ è rettangolare (con dimensione $m$x$n$) quindi non possiamo moltiplicare entrambi i membri per l'inversa di $A$, poiché non esiste. Pensiamoci, l'inversa non esiste, ma esiste l'inversa per matrici quadrate, quindi potremmo provare a moltiplicare entrambi i membri a sinistra per una matrice di dimensione $n$x$m$ in modo da ottenere una matrice quadrata a sinistra, dopo possiamo moltiplicare entrambi i membri per l'inversa di questa nuova matrice quadrata, isolando quindi la $x$ a sinstra dell'equazione e risolvendo il problema! Cioè se avessimo la matrice $C$ che stiamo cercando potremmo risolvere il problema così:\n",
        "\n",
        "\\begin{equation}\n",
        "C Ax = C b\n",
        "\\end{equation}\n",
        "\n",
        "\\begin{equation}\n",
        "x = (C A) ^ {-1} C b\n",
        "\\end{equation}\n",
        "\n",
        "\n",
        "Quindi quale matrice scegliere? Teniamo presente 3 regole euristiche:\n",
        "\n",
        "- La procedura originale con l'inversa funziona per trovare la retta passante per due punti, quindi vogliamo rimanere \"il più vicino possibile\" ad essa quando generalizziamo a più punti.\n",
        "- Il Rasoio di Occam, più semplice è, meglio è.\n",
        "- Data l'assunzione semplificativa che tutti i punti hanno la stessa incertezza, tutti i punti dovrebbero essere \"trattati allo stesso modo\" nel calcolo utilizzato per ottenere la retta di miglior fit (es: se nella matrice moltiplichiamo la $x$ dell' $8 $-avo punto per $2$ ma lasciamo invariati le $x$ degli altri punti questo non ha senso: perché l' $8$-avo punto dovrebbe essere due volte più importante degli altri se ha la stessa incertezza ed è stato misurato allo stesso modo degli altri?).\n",
        "\n",
        "Ok, quindi più è semplice, meglio è, potremmo provare a moltiplicare per una matrice di tutti $1$? No, perché la matrice risultante è quadrata ma non è nemmeno di rango completo, quindi l'inversa non esiste.\n",
        "\n",
        "Ok, quindi potremmo provare con una matrice piena di numeri casuali? Bhé, questo è sia davvero arbitrario (ci aspettiamo che l'iniezione di così tanti dati casuali nel nostro sistema distrugga le informazioni contenute nei nostri dati) sia molto diverso dalla procedura originale in cui utilizziamo l'inversa di $A$, che è una matrice derivata da $ A$, non qualcosa di strano o casuale. .\n",
        "\n",
        "Ok, quindi quale matrice ha la forma corretta, è semplice, dà la stessa importanza a ciascun punto, deriva da $A$ ed è \"simile all'inversa di $A$\"? La trasposta di $A$! Infatti la trasposta è uguale all'inversa se la matrice è ortogonale (ovvero ogni colonna ha lunghezza unitaria ed è perpendicolare ad ogni altra colonna, come ad esempio nelle matrici di rotazione). Inoltre nella trasposta trattiamo allo stesso modo la $x$ di ogni punto contenuta in $A$ (cioè lo lasciamo invariato). Ovviamente in generale la trasposta e l'inversa sono diverse, ma usare la trasposta per questo sembra abbastanza ragionevole. Così:\n",
        "\n",
        "\\begin{equation}\n",
        "Ax = b\n",
        "\\end{equation}\n",
        "\n",
        "\\begin{equation}\n",
        "A^T Ax = A^T b\n",
        "\\end{equation}\n",
        "\n",
        "Ora la matrice $A^T A$ è quadrata, quindi possiamo moltiplicare per la sua inversa:\n",
        "\n",
        "\\begin{equation}\n",
        "x = (A^T A) ^ {-1} A^T b\n",
        "\\end{equation}\n",
        "\n",
        "E' affascinante notare che, questa soluzione, trovata seguendo euristiche intuitive e semplici, non è solo una buona soluzione (approssimata) per il sistema lineare, ma è la MIGLIORE soluzione approssimata POSSIBILE, cioè quella che minimizza la somma dell'errore al quadrato di tutte le previsioni (maggiori dettagli su questa misura dell'errore in seguito).\n"
      ],
      "metadata": {
        "id": "_pIWY7YHmuSg"
      }
    },
    {
      "cell_type": "markdown",
      "source": [
        "# Introduzione intuitiva all'ottimizzazione e alla funzione di loss\n"
      ],
      "metadata": {
        "id": "w2vMzkAHo-HM"
      }
    },
    {
      "cell_type": "markdown",
      "source": [
        "Come accennato in precedenza, stiamo cercando la linea \"migliore\" che passi il più vicino possibile ai nostri punti. Questo è un cambio di prospettiva estremamente potente: nel mondo reale dobbiamo fare i conti con le incertezze, e lo facciamo chiedendo di avere la linea migliore possibile piuttosto che una linea \"perfetta\" (passante per tutti i punti) che non esiste .\n",
        "\n",
        "Quali sono gli esempi di ottimizzazione intuitiva che facciamo nella nostra vita? Ad esempio quando si vuole andare all'università o al lavoro è ragionevole supporre in prima approssimazione di voler ridurre al minimo la durata del viaggio. <!--\n",
        ", questo è ragionevole, ma preferiresti 39 minuti di guida in un traffico infernale o 40 minuti di piacevole passeggiata in un parco? Naturalmente il secondo è molto più rilassante e il singolo minuto aggiuntivo è insignificante in confronto. In generale persone diverse avranno un diverso compromesso tra tempo e tranquillità e come tali sceglieranno percorsi e modalità di trasporto diversi anche se i punti di partenza e di arrivo sono gli stessi.-->\n",
        "\n",
        "Come possiamo formalizzare matematicamente un problema del genere? Invece di cercare di trovare un modo per teletrasportarci al lavoro, possiamo accettare che il viaggio richiederà necessariamente almeno *un po'* di tempo e che possiamo solo cercare di ridurre al minimo il tempo di viaggio. Quindi l'intuizione principale è che possiamo definire un \"funzione di sub-ottimalità\", nota in letteratura come \"funzione di loss / loss function\" che specifica con una precisa operazione matematica quanto la nostra soluzione è peggiore di una soluzione perfetta (che in pratica non esiste mai per problemi reali). A questa teorica soluzione (scelta dei parametri) perfetta si assegna una loss $= 0$, per ogni altra soluzione la loss avrà un certo valore $> 0$, tanto maggiore è la loss tanto più lontani siamo dalla soluzione perfetta. Per il problema di ricerca del percorso di andare a lavorare la funzione di loss sarà il tempo del viaggio, mentre per il problema di fit lineare la funzione di loss sarà l'errore (al quadrato) del valore y previsto dal nostro modello lineare e il valore y reale, sommato su tutti i punti.\n",
        "\n",
        "Definire una funzione di loss che dipende sia dai nostri dati che da alcuni parametri sconosciuti è un passo sostanziale nella direzione della risoluzione del problema, poiché esistono tecniche matematiche note per trovare i valori di parametri incogniti (nel nostro caso $m$ e $c$ ) che minimizzano una funzione. La definizione di una funzione di loss appropriata seguita da questa procedura di minimizzazione ci fornirà la linea di miglior fit.\n",
        "\n",
        "Per collegare l'analogia di prima al nostro problema di fit lineare:\n",
        "\n",
        "- Cercare di teletrasportarsi al lavoro è analogo a cercare di trovare una retta che passi perfettamente attraverso 3 o più punti non colineari, sarebbe meraviglioso ma è chiaramente impossibile.\n",
        "\n",
        "- Accettare che almeno un po' di tempo è necessario per il viaggio e cercare di minimizzarlo è analogo ad accettare che almeno una certa distanza verticale dalla retta ai punti sia inevitabile e cercare di minimizzarla.\n",
        "\n"
      ],
      "metadata": {
        "id": "dX4OKjzo7y4I"
      }
    },
    {
      "cell_type": "markdown",
      "source": [
        "# Trovare la funzione di loss per il nostro problema\n",
        "\n"
      ],
      "metadata": {
        "id": "CnW2g0HBo6pP"
      }
    },
    {
      "cell_type": "markdown",
      "source": [
        "Come menzionato prima, stiamo cercando la retta \"migliore\", cioè quella che passa il più vicino possibile a quei punti. Questo è un cambio di prospettiva estremamente potente: nel mondo reale dobbiamo fare i conti con le incertezze, e lo facciamo chiedendo di avere la retta migliore possibile piuttosto che una retta \"perfetta\" (passante per tutti i punti) che non esiste .\n",
        "\n",
        "\\begin{equation}\n",
        "Ax = b\n",
        "\\end{equation}\n",
        "\n",
        "Definiamo una funzione di loss, ovvero la somma degli errori al quadrato di tutte le previsioni, che vogliamo minimizzare.\n",
        "\n",
        "Il termine $Ax$ rappresenta tutte le previsioni di $y_i$ dato $x_i$ (ricorda che le coordinate $x_i$ dei nostri punti sono all'interno della matrice $A$, il vettore $x$ contiene $m$ e $c$)\n",
        "\n",
        "Nel caso di tre punti il ​​risultato del prodotto $Ax$ sarà:\n",
        "\n",
        "\\begin{equation}\n",
        "\\begin{pmatrix}\n",
        "    x_{0}       & 1  \\\\\n",
        "    x_{1}       & 1 \\\\\n",
        "    x_{2}       & 1 \\\\\n",
        "\\end{pmatrix}  \\begin{pmatrix}\n",
        "    m         \\\\\n",
        "    c        \\\\\n",
        "\\end{pmatrix} =\\begin{pmatrix}\n",
        "      m x_0 + c \\\\\n",
        "      m x_1 + c \\\\\n",
        "      m x_1 + c \\\\\n",
        "\\end{pmatrix}\n",
        "\\end{equation}\n",
        "\n",
        "Quindi data la matrice $A$ matrice contenente i valori $x_i$ di ciascun punto (e una colonna di tutti $1$), l'output della moltiplicazione per il vettore sconosciuto $x$ contenente $m$ e $c$ è la nostra previsione del valore $y$ che dipende dai dati $x_i$ forniti e dai parametri incogniti del nostro modello $m $e $c$.\n",
        "\n",
        "Inoltre il vettore $b$ contiene i valori $y_i$ di tutti i punti.\n",
        "\n",
        "Quindi vogliamo che le nostre previsioni per i valori di $y$ dei punti, ottenuti con il prodotto $Ax$, siano il più vicine possibile ai valori reali di $y$ dei punti, contenuti nel vettore $b$. La differenza elemento per elemento (standard) tra $Ax$ e $b$ ci darà un vettore delle differenze tra le altezze reali e previste (valori di $y$), in altre parole, la distanza verticale tra i punti reali e i punti previsti (per i quali la $y$ è il valore della retta di fit per quella $x$). Tenendo conto che sovrastimare e sottostimare il valore target $y$ sono errori ugualmente gravi e che vogliamo evitare che una precedente sovrastima venga annullata da una successiva sottostima, la \"funzione di loss\", che è il valore complessivo che vogliamo minimizzare per trovare la linea ottimale per i nostri dati, sarà la somma dei quadrati di tutte le differenze tra gli $y_i$ previsti (calcolati con $(Ax)_i$ ) e quelli reali (contenuti in $b_i$), ovvero, in termini geometrici, **la somma dei quadrati delle differenze di altezza tra i valori reali (i punti) e previsti (altezza della retta alla stessa $x$ dei punti) della variabile dipendente $y$**. Convenientemente, dato un vettore, la somma dei quadrati di tutti i suoi elementi può essere ottenuta come prodotto scalare del vettore con se stesso. Così:\n",
        "\n",
        "\\begin{equation}\n",
        "Loss(x) = (Ax - b)^2 = (Ax - b)^T (Ax - b)\n",
        "\\end{equation}\n",
        "\n",
        "Scritto esplicitamente per il caso a tre punti, il vettore $Ax - b$ è:\n",
        "\n",
        "\\begin{equation}\n",
        "\\begin{pmatrix}\n",
        "      (m x_0 + c) - y_0 \\\\\n",
        "      (m x_1 + c) - y_1\\\\\n",
        "      (m x_1 + c) - y_2\\\\\n",
        "\\end{pmatrix}\n",
        "\\end{equation}\n",
        "\n",
        "E la funzione di loss è:\n",
        "\n",
        "\\begin{equation}\n",
        "      Loss(m, c) = ( (m x_0 + c) - y_0 ) ^ 2 + ( (m x_1 + c) - y_1 ) ^ 2 + ( (m x_1 + c) - y_2) ^ 2\n",
        "\\end{equation}\n"
      ],
      "metadata": {
        "id": "CIwyGTBX78GX"
      }
    },
    {
      "cell_type": "markdown",
      "source": [
        "# Rappresentazione grafica della loss\n"
      ],
      "metadata": {
        "id": "P3hh5_Joo3Uo"
      }
    },
    {
      "cell_type": "markdown",
      "source": [
        "La funzione di loss sopra descritta è semplicemente la somma delle aree dei quadrati blu, più piccola sarà la somma di queste aree, migliore sarà la linea di miglior fit:\n",
        "\n",
        "![least-squares-regression-line.jpg](data:image/jpeg;base64,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)"
      ],
      "metadata": {
        "id": "E97VWz3BA8RT"
      }
    },
    {
      "cell_type": "markdown",
      "source": [
        "# Dimostrazione dell'ottimalità della pseudoinversa\n",
        "\n"
      ],
      "metadata": {
        "id": "7x3FOdNaoyCZ"
      }
    },
    {
      "cell_type": "markdown",
      "source": [
        "Ora possiamo trovare i parametri $m$ e $c$ che minimizzano l'errore imponendo che il gradiente rispetto a $x$ sia $= 0$ (il gradiente è una derivata multivariata, imponendo che sia $= 0$ si trova un punto stazionario (che nel nostro caso è un minimo come possiamo verificare mediante un'ispezione visiva del risultato) in analogia a come possiamo trovare punti stazionari in 1 dimensione impostando la derivata $= 0$). Un gradiente uguale a zero significa che l'output non cambia se gli input vengono perturbati in maniera infinitesima, ovvero siamo in un punto stazionario (massimo, minimo o sella). (O meglio, cambia al massimo in maniera proporzionale a un infinitesimo al quadrato, che va a 0 molto velocemente quando l'infinitesimo tende a 0). Le regole per il calcolo del gradiente sono analoghe alle regole per il calcolo della derivata:\n",
        "\n",
        "\\begin{equation}\n",
        "Loss(x) = (Ax - b)^2 = (Ax - b)^T (Ax - b)\n",
        "\\end{equation}\n",
        "\n",
        "\\begin{equation}\n",
        "Loss(x) = (Ax)^TAx - (Ax)^Tb - b^TAx + b^2\n",
        "\\end{equation}\n",
        "\n",
        "$(Ax)^Tb$ è uno scalare (un numero) quindi la trasposizione non fa nulla, quindi è uguale a $( (Ax)^Tb ) ^ T = b^TAx$ (perché $(AB)^T = B^T A^T$).\n",
        "\n",
        "\\begin{equation}\n",
        "Loss(x) = (Ax)^TAx - 2(Ax)^Tb + b^2\n",
        "\\end{equation}\n",
        "\n",
        "\n",
        "\\begin{equation}\n",
        "   \\frac{\\partial Loss(x)}{\\partial x} = A^TAx - 2A^Tb \n",
        "\\end{equation}\n",
        "\n",
        "\\begin{equation}\n",
        "    2A^TAx_{min} - 2A^Tb = 0\n",
        "\\end{equation}\n",
        "\n",
        "\\begin{equation}\n",
        "    2A^TAx_{min} = + 2A^Tb\n",
        "\\end{equation}\n",
        "\n",
        "\\begin{equation}\n",
        "    x_{min} = (A^TA)^{-1}A^Tb\n",
        "\\end{equation}\n",
        "\n",
        "\n",
        "La matrice $$A^{\\#} = (A^TA)^{-1}A^T$$ è chiamata pseudoinversa di $A$ e abbiamo dimostrato che trova la MIGLIORE POSSIBILE (errore minimo al quadrato per previsioni) retta che si adatta ai nostri punti dati. Questa è la matrice che può essere utilizzata con la funzione `pinv` della libreria numerica `numpy` che useremo in seguito.\n"
      ],
      "metadata": {
        "id": "YW6gBkGz7-dK"
      }
    },
    {
      "cell_type": "markdown",
      "source": [
        "# Trovare la retta migliore che passa per i 3 punti"
      ],
      "metadata": {
        "id": "RYPUTPAgsyUq"
      }
    },
    {
      "cell_type": "code",
      "source": [
        "import numpy as np\n",
        "import matplotlib.pyplot as plt\n",
        "\n",
        "points = [(0, 0), [1, 1], [2.0001, 2]]\n",
        "xs = [point[0] for point in points]\n",
        "ys = [point[1] for point in points]\n",
        "\n",
        "A = np.column_stack( [xs, np.ones(len(xs), dtype=float) ])\n",
        "\n",
        "m_c = np.linalg.pinv(A) @ ys # ONLY CHANGE inv -> pinv\n",
        "\n",
        "def fitted_line(x):\n",
        "    m, c = m_c\n",
        "    return m*x + c\n",
        "m,c = m_c\n",
        "print(f\"Found line equation y = {m}x + {c}\")\n",
        "plt.scatter(xs, ys)\n",
        "plt.plot(xs, [fitted_line(x) for x in xs])"
      ],
      "metadata": {
        "colab": {
          "base_uri": "https://localhost:8080/",
          "height": 300
        },
        "id": "OfgpQY9Is1s_",
        "outputId": "4f64bfcb-9e48-47be-df7c-85e9b2f0b893"
      },
      "execution_count": null,
      "outputs": [
        {
          "output_type": "stream",
          "name": "stdout",
          "text": [
            "Found line equation y = 0.9999500016666666x + 1.6666666611375724e-05\n"
          ]
        },
        {
          "output_type": "execute_result",
          "data": {
            "text/plain": [
              "[<matplotlib.lines.Line2D at 0x7f39615f5550>]"
            ]
          },
          "metadata": {},
          "execution_count": 3
        },
        {
          "output_type": "display_data",
          "data": {
            "text/plain": [
              "<Figure size 432x288 with 1 Axes>"
            ],
            "image/png": "[encoded data removed]"
          },
          "metadata": {
            "needs_background": "light"
          }
        }
      ]
    },
    {
      "cell_type": "markdown",
      "source": [
        "# Applicazione a un esperimento simulato"
      ],
      "metadata": {
        "id": "4xtim510teub"
      }
    },
    {
      "cell_type": "markdown",
      "source": [
        "Di seguito simulo un esperimento in cui un corpo si muove senza attrito sul ghiaccio, con una velocità costante. Come sappiamo la posizione di un corpo è il prodotto tra il tempo e la velocità (più la posizione iniziale):\n",
        "\n",
        "$$s = s_0 + v t $$\n",
        "\n",
        "\n",
        "Ad ogni intervallo di tempo viene effettuata una misura della posizione con un sonar. La pseudoinversa ci permetterà di trovare la migliore stima per la velocità del corpo e la posizione di partenza trovando la linea di miglior fit (la velocità è la pendenza $m$ di quella linea, la posizione di partenza è l'intercetta $c$)."
      ],
      "metadata": {
        "id": "_ZzK8-qotiXw"
      }
    },
    {
      "cell_type": "markdown",
      "source": [
        "# Generazione di dati simulati"
      ],
      "metadata": {
        "id": "TqNbcVPHqWtQ"
      }
    },
    {
      "cell_type": "code",
      "execution_count": null,
      "metadata": {
        "colab": {
          "base_uri": "https://localhost:8080/",
          "height": 266
        },
        "id": "qTIjI-sfqM-2",
        "outputId": "b9c7a7c6-837f-4d59-d483-72be764893a2"
      },
      "outputs": [
        {
          "output_type": "display_data",
          "data": {
            "text/plain": [
              "<Figure size 432x288 with 1 Axes>"
            ],
            "image/png": "[encoded data removed]"
          },
          "metadata": {
            "needs_background": "light"
          }
        }
      ],
      "source": [
        "import numpy as np\n",
        "import matplotlib.pyplot as plt\n",
        "\n",
        "sampling_per_second = 5 #@param {type:\"slider\", min:1, max:5, step:1}\n",
        "noise = 1.01 #@param {type:\"slider\", min:0.01, max:5, step:0.1}\n",
        "speed = 2.6 #@param {type:\"slider\", min:1, max:5, step:0.1}\n",
        "max_time = 10.9 #@param {type:\"slider\", min:10.0, max:20.0, step:0.1}\n",
        "starting_position = 3.5 #@param {type:\"slider\", min:1, max:5, step:0.1}\n",
        "\n",
        "times = np.arange(0., max_time, step=1/sampling_per_second)\n",
        "times += np.random.rand(*times.shape) * noise\n",
        "real_speed = speed\n",
        "positions = starting_position + real_speed * times\n",
        "positions += np.random.rand(*positions.shape) * noise\n",
        "\n",
        "plt.scatter(times, positions)\n",
        "plt.show()"
      ]
    },
    {
      "cell_type": "markdown",
      "source": [
        "# Trovare i parametri del fit lineare\n"
      ],
      "metadata": {
        "id": "zm5iC6NIrwAy"
      }
    },
    {
      "cell_type": "code",
      "source": [
        "# la prima colonna di A sono le x, la seconda colonna tutti 1\n",
        "A = np.column_stack( [times, np.ones(times.shape, dtype=float) ])\n",
        "\n",
        "A_pinv = np.linalg.pinv(A)\n",
        "\n",
        "print(A, A_pinv)\n",
        "print(A.shape, A_pinv.shape)"
      ],
      "metadata": {
        "colab": {
          "base_uri": "https://localhost:8080/"
        },
        "id": "pRpMVxd4rupD",
        "outputId": "89eff808-35f6-402d-9e4f-e1345057b822"
      },
      "execution_count": null,
      "outputs": [
        {
          "output_type": "stream",
          "name": "stdout",
          "text": [
            "[[ 0.22812026  1.        ]\n",
            " [ 0.60099981  1.        ]\n",
            " [ 1.16899548  1.        ]\n",
            " [ 1.4660487   1.        ]\n",
            " [ 0.94200056  1.        ]\n",
            " [ 1.94117132  1.        ]\n",
            " [ 1.57982536  1.        ]\n",
            " [ 2.26846153  1.        ]\n",
            " [ 2.28808111  1.        ]\n",
            " [ 2.42943767  1.        ]\n",
            " [ 2.79586439  1.        ]\n",
            " [ 3.13430145  1.        ]\n",
            " [ 2.94205895  1.        ]\n",
            " [ 2.67763696  1.        ]\n",
            " [ 3.6791066   1.        ]\n",
            " [ 3.10646766  1.        ]\n",
            " [ 4.16166563  1.        ]\n",
            " [ 3.46659954  1.        ]\n",
            " [ 3.67754374  1.        ]\n",
            " [ 4.03692543  1.        ]\n",
            " [ 4.49203547  1.        ]\n",
            " [ 4.9300379   1.        ]\n",
            " [ 5.10647364  1.        ]\n",
            " [ 4.9423849   1.        ]\n",
            " [ 5.73547526  1.        ]\n",
            " [ 5.95165578  1.        ]\n",
            " [ 5.34143051  1.        ]\n",
            " [ 5.7863012   1.        ]\n",
            " [ 5.78945451  1.        ]\n",
            " [ 6.61312486  1.        ]\n",
            " [ 6.88343543  1.        ]\n",
            " [ 6.58400298  1.        ]\n",
            " [ 7.11516665  1.        ]\n",
            " [ 7.49350073  1.        ]\n",
            " [ 7.43993618  1.        ]\n",
            " [ 7.61236461  1.        ]\n",
            " [ 7.59373659  1.        ]\n",
            " [ 8.21968507  1.        ]\n",
            " [ 7.82006273  1.        ]\n",
            " [ 8.070988    1.        ]\n",
            " [ 8.9749182   1.        ]\n",
            " [ 8.21776831  1.        ]\n",
            " [ 9.39341251  1.        ]\n",
            " [ 9.28208259  1.        ]\n",
            " [ 9.02073732  1.        ]\n",
            " [ 9.26692348  1.        ]\n",
            " [ 9.38111339  1.        ]\n",
            " [10.21368485  1.        ]\n",
            " [10.17641061  1.        ]\n",
            " [ 9.96742825  1.        ]\n",
            " [10.37286475  1.        ]\n",
            " [10.57546112  1.        ]\n",
            " [10.49381343  1.        ]\n",
            " [11.13876446  1.        ]\n",
            " [11.63035296  1.        ]] [[-1.04253127e-02 -9.74368842e-03 -8.70539170e-03 -8.16237809e-03\n",
            "  -9.12033867e-03 -7.29385341e-03 -7.95439422e-03 -6.69556652e-03\n",
            "  -6.65970191e-03 -6.40130196e-03 -5.73147351e-03 -5.11281019e-03\n",
            "  -5.46422968e-03 -5.94759339e-03 -4.11690575e-03 -5.16369038e-03\n",
            "  -3.23478730e-03 -4.50536890e-03 -4.11976266e-03 -3.46281254e-03\n",
            "  -2.63087087e-03 -1.83020193e-03 -1.50767721e-03 -1.80763161e-03\n",
            "  -3.57861537e-04  3.73166995e-05 -1.07817578e-03 -2.64951655e-04\n",
            "  -2.59187400e-04  1.24648292e-03  1.74061094e-03  1.19324809e-03\n",
            "   2.16421587e-03  2.85581100e-03  2.75789494e-03  3.07309431e-03\n",
            "   3.03904227e-03  4.18327679e-03  3.45276670e-03  3.91145837e-03\n",
            "   5.56384379e-03  4.17977296e-03  6.32885187e-03  6.12534064e-03\n",
            "   5.64760120e-03  6.09762978e-03  6.30636906e-03  7.82831062e-03\n",
            "   7.76017327e-03  7.37815329e-03  8.11929167e-03  8.48963805e-03\n",
            "   8.34038599e-03  9.51935720e-03  1.04179815e-02]\n",
            " [ 8.00168688e-02  7.59739907e-02  6.98156017e-02  6.65948566e-02\n",
            "   7.22767525e-02  6.14434267e-02  6.53612540e-02  5.78948425e-02\n",
            "   5.76821208e-02  5.61494882e-02  5.21765737e-02  4.85071319e-02\n",
            "   5.05914859e-02  5.34584329e-02  4.26001818e-02  4.88089146e-02\n",
            "   3.73681240e-02  4.49042507e-02  4.26171269e-02  3.87205968e-02\n",
            "   3.37861496e-02  2.90371885e-02  2.71242163e-02  2.89033184e-02\n",
            "   2.03043815e-02  1.79604838e-02  2.45767395e-02  1.97533105e-02\n",
            "   1.97191213e-02  1.07886265e-02  7.85783374e-03  1.11043752e-02\n",
            "   5.34533046e-03  1.24331245e-03  1.82407630e-03 -4.54473838e-05\n",
            "   1.56523519e-04 -6.63020818e-03 -2.29737614e-03 -5.01798739e-03\n",
            "  -1.48186849e-02 -6.60942608e-03 -1.93561329e-02 -1.81490585e-02\n",
            "  -1.53154703e-02 -1.79846987e-02 -1.92227819e-02 -2.82497853e-02\n",
            "  -2.78456462e-02 -2.55797934e-02 -2.99756643e-02 -3.21722783e-02\n",
            "  -3.12870282e-02 -3.82797915e-02 -4.36097497e-02]]\n",
            "(55, 2) (2, 55)\n"
          ]
        }
      ]
    },
    {
      "cell_type": "code",
      "source": [
        "m_c = A_pinv @ positions\n",
        "\n",
        "def fitted_line(x):\n",
        "    m, c = m_c\n",
        "    return m*x + c\n",
        "\n",
        "m_c"
      ],
      "metadata": {
        "colab": {
          "base_uri": "https://localhost:8080/"
        },
        "id": "yU01qy-fsubT",
        "outputId": "b77803ab-3312-43d0-fb51-b26f2a6fe40f"
      },
      "execution_count": null,
      "outputs": [
        {
          "output_type": "execute_result",
          "data": {
            "text/plain": [
              "array([2.61872337, 3.83820818])"
            ]
          },
          "metadata": {},
          "execution_count": 6
        }
      ]
    },
    {
      "cell_type": "markdown",
      "source": [
        "# Grafico del risultato finale"
      ],
      "metadata": {
        "id": "TZZMn4viu1jp"
      }
    },
    {
      "cell_type": "code",
      "source": [
        "plt.scatter(times, positions)\n",
        "x_1, x_2 = 0, times[-1]\n",
        "m,c = m_c\n",
        "print(f\"Found line equation y = {m}x + {c}\")\n",
        "plt.plot([x_1, x_2], [fitted_line(x_1), fitted_line(x_2)], marker='')\n",
        "plt.show()"
      ],
      "metadata": {
        "colab": {
          "base_uri": "https://localhost:8080/",
          "height": 282
        },
        "id": "uYiOYQ8iu3XZ",
        "outputId": "3dc4e049-2fe9-4ab8-cfd3-c3a9a488f92b"
      },
      "execution_count": null,
      "outputs": [
        {
          "output_type": "stream",
          "name": "stdout",
          "text": [
            "Found line equation y = 2.618723366434476x + 3.838208175387246\n"
          ]
        },
        {
          "output_type": "display_data",
          "data": {
            "text/plain": [
              "<Figure size 432x288 with 1 Axes>"
            ],
            "image/png": "[encoded data removed]"
          },
          "metadata": {
            "needs_background": "light"
          }
        }
      ]
    },
    {
      "cell_type": "markdown",
      "source": [
        "# Il fit lineare ha funzionato?\n"
      ],
      "metadata": {
        "id": "H0DmanaqCx0q"
      }
    },
    {
      "cell_type": "markdown",
      "source": [
        "Dato che abbiamo generato i dati con una simulazione con pendenza ($m$ = pendenza = velocità) e intercetta ($c$ = intercetta = posizione di partenza) note abbiamo la possibilità di verificare la concordanza tra i parametri stimati con il fit lineare e i parametri reali scelti da noi all'inizio della simulazione. La differenza tra i parametri reali e stimati dovrebbe crescere al crescere dell'incertezza di ciascun punto e diminuire all'aumentare del numero di punti: suggerisco di giocare con gli slider sopra per modificare i parametri della simulazione (soprattutto rumore e numero di punti) e controllare come l'errore tra i parametri $m$ e $c$ reali e stimati dipende dall'incertezza dei punti e dal numero di punti utilizzati.\n"
      ],
      "metadata": {
        "id": "E8498LAvotT1"
      }
    },
    {
      "cell_type": "code",
      "source": [
        "import math\n",
        "print(f\"In this simulation with {noise} noise (uncertainty) on each point and {math.ceil(max_time*sampling_per_second)} points\")\n",
        "print(f\"The real speed is {speed}, the predicted speed is {m}, the absolute error is {abs(speed-m)}\")\n",
        "print(f\"The real starting position is {starting_position}, the predicted starting position is {c}, the absolute error is {abs(starting_position-c)}\")"
      ],
      "metadata": {
        "colab": {
          "base_uri": "https://localhost:8080/"
        },
        "id": "eFXIiNrWDYNf",
        "outputId": "af0ba835-a7eb-4cbd-b26c-e3151fec5628"
      },
      "execution_count": null,
      "outputs": [
        {
          "output_type": "stream",
          "name": "stdout",
          "text": [
            "In this simulation with 1.01 noise (uncertainty) on each point and 55 points\n",
            "The real speed is 2.6, the predicted speed is 2.618723366434476, the absolute error is 0.018723366434475697\n",
            "The real starting position is 3.5, the predicted starting position is 3.838208175387246, the absolute error is 0.3382081753872459\n"
          ]
        }
      ]
    },
    {
      "cell_type": "markdown",
      "source": [
        "# Costruzione di un modello per uso generale\n"
      ],
      "metadata": {
        "id": "13t8SzDECY1T"
      }
    },
    {
      "cell_type": "code",
      "source": [
        "class MyLinearRegression():\n",
        "\n",
        "    def __init__(self):\n",
        "        self.parameters = None\n",
        "\n",
        "    def predict(self, sample):\n",
        "        return np.dot(self.parameters, np.concatenate( (np.array([1.]), sample ) ) )\n",
        "\n",
        "    def fit(self, X_train, y_train):\n",
        "        #print(\"inside fit\", X_train, y_train)\n",
        "        A = np.column_stack( [X_train, np.ones(X_train.shape[0], dtype=float) ])\n",
        "        self.parameters = np.linalg.pinv(A) @ y_train\n",
        "        #print(self.parameters, A)\n",
        "    \n",
        "    def mean_squared_error(self, X_train, y_train):\n",
        "        predictions = [self.predict(x) for x in X_train]\n",
        "        return sum( (pred - real)**2 for pred, real in zip(predictions, y_train)) / len(X_train)"
      ],
      "metadata": {
        "id": "T-2k6ZS3CbdS"
      },
      "execution_count": null,
      "outputs": []
    },
    {
      "cell_type": "markdown",
      "source": [
        "# Test del modello"
      ],
      "metadata": {
        "id": "4IiIt_42E3as"
      }
    },
    {
      "cell_type": "code",
      "source": [
        "lc = MyLinearRegression()\n",
        "lc.fit(times, positions)\n",
        "np.isclose(lc.parameters , m_c)"
      ],
      "metadata": {
        "colab": {
          "base_uri": "https://localhost:8080/"
        },
        "id": "hA1BAWdSCdD1",
        "outputId": "e22fc083-be70-4e60-a9f9-784c7394439c"
      },
      "execution_count": null,
      "outputs": [
        {
          "output_type": "execute_result",
          "data": {
            "text/plain": [
              "array([ True,  True])"
            ]
          },
          "metadata": {},
          "execution_count": 10
        }
      ]
    },
    {
      "cell_type": "markdown",
      "source": [
        "# Generalizzazione a più di una variabile di input per punto\n"
      ],
      "metadata": {
        "id": "nC6Z2URih5Xb"
      }
    },
    {
      "cell_type": "markdown",
      "source": [
        "La stessa matematica discussa in precedenza può essere applicata a problemi in cui i punti vivono in uno spazio con molte dimensioni. Mentre nel problema di prima i punti vivevano nello spazio bidimensionale, esitono spazi ad alte dimensioni in cui esistono molti valori $x_i$ per ogni punto che possono essere usati per prevedere il valore $y$ per quel punto. Ad esempio in una piccola regione dell'Italia potresti approssimare l'altezza del terreno come una funzione lineare di $x_0$ (longitudine) e $x_1$ (latitudine).\n",
        "\n",
        "\n",
        "La matrice $A$ nel caso di $7$ punti, ognuno dei quali vive in uno spazio a $6$ dimensioni $5+1=6$ ($5$ coordinate $x$ per ogni punto e $1$ coordinata $y$ ) sarebbe:\n",
        "\n",
        "\\begin{equation}\n",
        " A =\\begin{pmatrix}\n",
        "    x_{00}       & x_{01} & x_{02} & x_{03}& x_{04}& 1  \\\\\n",
        "    x_{10}       & x_{11} & x_{12} & x_{13}& x_{14}& 1 \\\\\n",
        "    x_{20}       & x_{21} & x_{22} & x_{23}& x_{24}&1 \\\\\n",
        "    x_{30}       & x_{31} & x_{32} & x_{33}& x_{34}&  1  \\\\\n",
        "    x_{40}       & x_{41} & x_{42} & x_{43}& x_{44}&  1 \\\\\n",
        "    x_{50}       & x_{51} & x_{52} & x_{53}& x_{54}& 1 \\\\\n",
        "    x_{60}       & x_{61} & x_{62} & x_{63}& x_{64}& 1 \\\\\n",
        "\\end{pmatrix}\n",
        "\\end{equation}\n",
        "\n",
        "Il primo indice di $x$ ci dice quale punto considerare, il secondo indice quale coordinata di quel punto considerare, quindi ad esempio $x_{24}$ è la quinta coordinata del terzo punto (considerando che l'indice parte da $0$).\n",
        "\n",
        "Il processo per trovare il miglior fit lineare con la pseudoinversa funziona allo stesso modo di prima, è solamente necessario svolgere più calcoli. Inoltre, dobbiamo tenere presente che non troviamo più linee ma iperpiani, superfici piatte con dimensione $N - 1$, dove $N$ è il numero di dimensioni dello spazio. Ad esempio, se abbiamo punti in $3$-D, dei quali vogliamo utilizzare la $x$ e la $y$ per prevedere la $z$, effettuare una regressione lineare significa trovare una funzione lineare che ha $2$ input e $1$ output, cioè un piano standard.\n"
      ],
      "metadata": {
        "id": "MOup5Q40bvBX"
      }
    },
    {
      "cell_type": "markdown",
      "source": [
        "# Come visualizzare dati e fit lineari in spazi a molte dimensioni\n"
      ],
      "metadata": {
        "id": "L474nyOJegxq"
      }
    },
    {
      "cell_type": "markdown",
      "source": [
        "\n",
        "Il problema della visualizzazione diventa sicuramente più complesso in uno spazio a molte dimensioni, le visualizzazioni di dataset con punti in spazi a molte dimensioni sono possibili attraverso due metodi principali:\n",
        "\n",
        "- Riduzione della dimensionalità, in cui vengono costruite nuove dimensioni (ad esempio come una combinazione lineare di altre dimensioni) in cui i dati hanno una varianza elevata delle quali vengono mantenute le prime $ 2 $ o $ 3 $ per la visualizzazione e le altre sono scartate (non c'è spazio per discutere di questo argomento in dettaglio quì, le parole chiave che consiglio di ricercare agli interessati sono PCA o t-SNE)\n",
        "\n",
        "- Proiezione: possiamo anche semplicemente graficare $2$ o $3$ delle dimensioni dei dati alla volta, questo metodo sarà utilizzato successivamente in questo materiale."
      ],
      "metadata": {
        "id": "B5Py3_PIogo3"
      }
    },
    {
      "cell_type": "markdown",
      "source": [
        "# Visualizzazione delle proiezioni di un piano 2D"
      ],
      "metadata": {
        "id": "X0cY0_9mp51R"
      }
    },
    {
      "cell_type": "markdown",
      "source": [
        "Qui possiamo vedere che un piano 3d ha due linee come proiezioni su piani ortogonali, una nel piano $xz$ e una nel piano $yz$.\n"
      ],
      "metadata": {
        "id": "yT9dp2H_f_u2"
      }
    },
    {
      "cell_type": "code",
      "source": [
        "x = np.linspace(0,2,100)\n",
        "y = np.linspace(0, 2,100)\n",
        "\n",
        "a=0.7 #@param {type:\"slider\", min:0, max:3, step:0.1}\n",
        "b= 0.2 #@param {type:\"slider\", min:0, max:3, step:0.1}\n",
        "c = 0.1#@param {type:\"slider\", min:0, max:0.5, step:0.1}\n",
        "X,Y = np.meshgrid(x,y)\n",
        "Z= a*X +b*Y + c\n",
        "\n",
        "fig = plt.figure(figsize=(8,8))\n",
        "ax = fig.gca(projection='3d')\n",
        "plt.xlim(0, 2)  \n",
        "plt.ylim(0, 2)\n",
        "\n",
        "surf = ax.plot_surface(X, Y, Z)\n",
        "plt.xlabel(\"x\")\n",
        "plt.ylabel(\"y\")\n",
        "ax.set_zlabel('z')\n",
        "ax.set_zlim(0,2)\n",
        "\n",
        "plt.show()\n",
        "\n",
        "\n",
        "# lines obtained by projecting the plane Z on vertical planes\n",
        "\n",
        "xs = np.arange(0, 2, step=0.01)\n",
        "zs = a*xs + c\n",
        "plt.xlim(0, 2)\n",
        "plt.ylim(0, 2)\n",
        "plt.xlabel(\"x\")\n",
        "plt.ylabel(\"z\")\n",
        "\n",
        "plt.plot(xs, zs)\n",
        "plt.show()\n",
        "\n",
        "ys = np.arange(0, 2, step=0.01)\n",
        "zs = b*ys +c \n",
        "plt.xlim(0, 2)\n",
        "plt.ylim(0, 2)\n",
        "plt.xlabel(\"y\")\n",
        "plt.ylabel(\"z\")\n",
        "\n",
        "plt.plot(ys, zs)\n",
        "plt.show()"
      ],
      "metadata": {
        "colab": {
          "base_uri": "https://localhost:8080/",
          "height": 998
        },
        "id": "_AaShDdjGGdy",
        "outputId": "e2499af4-bf8a-4478-fb5b-d1231958107e"
      },
      "execution_count": null,
      "outputs": [
        {
          "output_type": "display_data",
          "data": {
            "text/plain": [
              "<Figure size 576x576 with 1 Axes>"
            ],
            "image/png": "[encoded data removed]"
          },
          "metadata": {
            "needs_background": "light"
          }
        },
        {
          "output_type": "display_data",
          "data": {
            "text/plain": [
              "<Figure size 432x288 with 1 Axes>"
            ],
            "image/png": "[encoded data removed]"
          },
          "metadata": {
            "needs_background": "light"
          }
        },
        {
          "output_type": "display_data",
          "data": {
            "text/plain": [
              "<Figure size 432x288 with 1 Axes>"
            ],
            "image/png": "[encoded data removed]"
          },
          "metadata": {
            "needs_background": "light"
          }
        }
      ]
    },
    {
      "cell_type": "markdown",
      "source": [
        "# Stima dei costi dell'assicurazione medica"
      ],
      "metadata": {
        "id": "qYAjEamytw1s"
      }
    },
    {
      "cell_type": "markdown",
      "source": [
        "Questa sezione applicherà la stessa matematica discussa prima a un problema in cui i punti vivono in uno spazio con molte dimensioni. Mentre nel problema prima i punti vivevano nello spazio bidimensionale, ora ci sono molti valori $x_i$ per ogni punto che possono essere usati per prevedere il valore $y$ per quel punto.\n",
        "\n",
        "Questo set di dati contiene le seguenti informazioni su ciascuna persona:\n",
        "\n",
        "- `age`: età del beneficiario principale.\n",
        "\n",
        "- `sex`: sesso del beneficiario dell'assicurazione, femmina, maschio.\n",
        "\n",
        "- `bmi`: indice di massa corporea, che determina se il peso è basso o alto rispetto all'altezza,\n",
        "indice obiettivo del peso corporeo (kg / m ^ 2) calcolato come il rapporto tra peso e altezza al quadrato, idealmente da 18,5 a 24,9\n",
        "\n",
        "- `children`: numero di figli coperti dall'assicurazione sanitaria / numero di persone a carico\n",
        "\n",
        "- `smoker`: la persona fuma?\n",
        "\n",
        "- `region`: l'area residenziale del beneficiario negli Stati Uniti, nord-est, sud-est, sud-ovest, nord-ovest.\n",
        "\n",
        "- `charges`: spese mediche individuali richieste dall'assicurazione sanitaria\n",
        "\n",
        "Il valore finale `charges` è il valore $y$ che vogliamo prevedere, tutti gli altri valori verranno utilizzati come valori $x_i$, input per il nostro modello lineare.\n"
      ],
      "metadata": {
        "id": "-gbMj6T4apIG"
      }
    },
    {
      "cell_type": "code",
      "source": [
        "#@title DATI\n",
        "data_csv = \\\n",
        "\"\"\"age,sex,bmi,children,smoker,region,charges\n",
        "19,female,27.9,0,yes,southwest,16884.924\n",
        "18,male,33.77,1,no,southeast,1725.5523\n",
        "28,male,33,3,no,southeast,4449.462\n",
        "33,male,22.705,0,no,northwest,21984.47061\n",
        "32,male,28.88,0,no,northwest,3866.8552\n",
        "31,female,25.74,0,no,southeast,3756.6216\n",
        "46,female,33.44,1,no,southeast,8240.5896\n",
        "37,female,27.74,3,no,northwest,7281.5056\n",
        "37,male,29.83,2,no,northeast,6406.4107\n",
        "60,female,25.84,0,no,northwest,28923.13692\n",
        "25,male,26.22,0,no,northeast,2721.3208\n",
        "62,female,26.29,0,yes,southeast,27808.7251\n",
        "23,male,34.4,0,no,southwest,1826.843\n",
        "56,female,39.82,0,no,southeast,11090.7178\n",
        "27,male,42.13,0,yes,southeast,39611.7577\n",
        "19,male,24.6,1,no,southwest,1837.237\n",
        "52,female,30.78,1,no,northeast,10797.3362\n",
        "23,male,23.845,0,no,northeast,2395.17155\n",
        "56,male,40.3,0,no,southwest,10602.385\n",
        "30,male,35.3,0,yes,southwest,36837.467\n",
        "60,female,36.005,0,no,northeast,13228.84695\n",
        "30,female,32.4,1,no,southwest,4149.736\n",
        "18,male,34.1,0,no,southeast,1137.011\n",
        "34,female,31.92,1,yes,northeast,37701.8768\n",
        "37,male,28.025,2,no,northwest,6203.90175\n",
        "59,female,27.72,3,no,southeast,14001.1338\n",
        "63,female,23.085,0,no,northeast,14451.83515\n",
        "55,female,32.775,2,no,northwest,12268.63225\n",
        "23,male,17.385,1,no,northwest,2775.19215\n",
        "31,male,36.3,2,yes,southwest,38711\n",
        "22,male,35.6,0,yes,southwest,35585.576\n",
        "18,female,26.315,0,no,northeast,2198.18985\n",
        "19,female,28.6,5,no,southwest,4687.797\n",
        "63,male,28.31,0,no,northwest,13770.0979\n",
        "28,male,36.4,1,yes,southwest,51194.55914\n",
        "19,male,20.425,0,no,northwest,1625.43375\n",
        "62,female,32.965,3,no,northwest,15612.19335\n",
        "26,male,20.8,0,no,southwest,2302.3\n",
        "35,male,36.67,1,yes,northeast,39774.2763\n",
        "60,male,39.9,0,yes,southwest,48173.361\n",
        "24,female,26.6,0,no,northeast,3046.062\n",
        "31,female,36.63,2,no,southeast,4949.7587\n",
        "41,male,21.78,1,no,southeast,6272.4772\n",
        "37,female,30.8,2,no,southeast,6313.759\n",
        "38,male,37.05,1,no,northeast,6079.6715\n",
        "55,male,37.3,0,no,southwest,20630.28351\n",
        "18,female,38.665,2,no,northeast,3393.35635\n",
        "28,female,34.77,0,no,northwest,3556.9223\n",
        "60,female,24.53,0,no,southeast,12629.8967\n",
        "36,male,35.2,1,yes,southeast,38709.176\n",
        "18,female,35.625,0,no,northeast,2211.13075\n",
        "21,female,33.63,2,no,northwest,3579.8287\n",
        "48,male,28,1,yes,southwest,23568.272\n",
        "36,male,34.43,0,yes,southeast,37742.5757\n",
        "40,female,28.69,3,no,northwest,8059.6791\n",
        "58,male,36.955,2,yes,northwest,47496.49445\n",
        "58,female,31.825,2,no,northeast,13607.36875\n",
        "18,male,31.68,2,yes,southeast,34303.1672\n",
        "53,female,22.88,1,yes,southeast,23244.7902\n",
        "34,female,37.335,2,no,northwest,5989.52365\n",
        "43,male,27.36,3,no,northeast,8606.2174\n",
        "25,male,33.66,4,no,southeast,4504.6624\n",
        "64,male,24.7,1,no,northwest,30166.61817\n",
        "28,female,25.935,1,no,northwest,4133.64165\n",
        "20,female,22.42,0,yes,northwest,14711.7438\n",
        "19,female,28.9,0,no,southwest,1743.214\n",
        "61,female,39.1,2,no,southwest,14235.072\n",
        "40,male,26.315,1,no,northwest,6389.37785\n",
        "40,female,36.19,0,no,southeast,5920.1041\n",
        "28,male,23.98,3,yes,southeast,17663.1442\n",
        "27,female,24.75,0,yes,southeast,16577.7795\n",
        "31,male,28.5,5,no,northeast,6799.458\n",
        "53,female,28.1,3,no,southwest,11741.726\n",
        "58,male,32.01,1,no,southeast,11946.6259\n",
        "44,male,27.4,2,no,southwest,7726.854\n",
        "57,male,34.01,0,no,northwest,11356.6609\n",
        "29,female,29.59,1,no,southeast,3947.4131\n",
        "21,male,35.53,0,no,southeast,1532.4697\n",
        "22,female,39.805,0,no,northeast,2755.02095\n",
        "41,female,32.965,0,no,northwest,6571.02435\n",
        "31,male,26.885,1,no,northeast,4441.21315\n",
        "45,female,38.285,0,no,northeast,7935.29115\n",
        "22,male,37.62,1,yes,southeast,37165.1638\n",
        "48,female,41.23,4,no,northwest,11033.6617\n",
        "37,female,34.8,2,yes,southwest,39836.519\n",
        "45,male,22.895,2,yes,northwest,21098.55405\n",
        "57,female,31.16,0,yes,northwest,43578.9394\n",
        "56,female,27.2,0,no,southwest,11073.176\n",
        "46,female,27.74,0,no,northwest,8026.6666\n",
        "55,female,26.98,0,no,northwest,11082.5772\n",
        "21,female,39.49,0,no,southeast,2026.9741\n",
        "53,female,24.795,1,no,northwest,10942.13205\n",
        "59,male,29.83,3,yes,northeast,30184.9367\n",
        "35,male,34.77,2,no,northwest,5729.0053\n",
        "64,female,31.3,2,yes,southwest,47291.055\n",
        "28,female,37.62,1,no,southeast,3766.8838\n",
        "54,female,30.8,3,no,southwest,12105.32\n",
        "55,male,38.28,0,no,southeast,10226.2842\n",
        "56,male,19.95,0,yes,northeast,22412.6485\n",
        "38,male,19.3,0,yes,southwest,15820.699\n",
        "41,female,31.6,0,no,southwest,6186.127\n",
        "30,male,25.46,0,no,northeast,3645.0894\n",
        "18,female,30.115,0,no,northeast,21344.8467\n",
        "61,female,29.92,3,yes,southeast,30942.1918\n",
        "34,female,27.5,1,no,southwest,5003.853\n",
        "20,male,28.025,1,yes,northwest,17560.37975\n",
        "19,female,28.4,1,no,southwest,2331.519\n",
        "26,male,30.875,2,no,northwest,3877.30425\n",
        "29,male,27.94,0,no,southeast,2867.1196\n",
        "63,male,35.09,0,yes,southeast,47055.5321\n",
        "54,male,33.63,1,no,northwest,10825.2537\n",
        "55,female,29.7,2,no,southwest,11881.358\n",
        "37,male,30.8,0,no,southwest,4646.759\n",
        "21,female,35.72,0,no,northwest,2404.7338\n",
        "52,male,32.205,3,no,northeast,11488.31695\n",
        "60,male,28.595,0,no,northeast,30259.99556\n",
        "58,male,49.06,0,no,southeast,11381.3254\n",
        "29,female,27.94,1,yes,southeast,19107.7796\n",
        "49,female,27.17,0,no,southeast,8601.3293\n",
        "37,female,23.37,2,no,northwest,6686.4313\n",
        "44,male,37.1,2,no,southwest,7740.337\n",
        "18,male,23.75,0,no,northeast,1705.6245\n",
        "20,female,28.975,0,no,northwest,2257.47525\n",
        "44,male,31.35,1,yes,northeast,39556.4945\n",
        "47,female,33.915,3,no,northwest,10115.00885\n",
        "26,female,28.785,0,no,northeast,3385.39915\n",
        "19,female,28.3,0,yes,southwest,17081.08\n",
        "52,female,37.4,0,no,southwest,9634.538\n",
        "32,female,17.765,2,yes,northwest,32734.1863\n",
        "38,male,34.7,2,no,southwest,6082.405\n",
        "59,female,26.505,0,no,northeast,12815.44495\n",
        "61,female,22.04,0,no,northeast,13616.3586\n",
        "53,female,35.9,2,no,southwest,11163.568\n",
        "19,male,25.555,0,no,northwest,1632.56445\n",
        "20,female,28.785,0,no,northeast,2457.21115\n",
        "22,female,28.05,0,no,southeast,2155.6815\n",
        "19,male,34.1,0,no,southwest,1261.442\n",
        "22,male,25.175,0,no,northwest,2045.68525\n",
        "54,female,31.9,3,no,southeast,27322.73386\n",
        "22,female,36,0,no,southwest,2166.732\n",
        "34,male,22.42,2,no,northeast,27375.90478\n",
        "26,male,32.49,1,no,northeast,3490.5491\n",
        "34,male,25.3,2,yes,southeast,18972.495\n",
        "29,male,29.735,2,no,northwest,18157.876\n",
        "30,male,28.69,3,yes,northwest,20745.9891\n",
        "29,female,38.83,3,no,southeast,5138.2567\n",
        "46,male,30.495,3,yes,northwest,40720.55105\n",
        "51,female,37.73,1,no,southeast,9877.6077\n",
        "53,female,37.43,1,no,northwest,10959.6947\n",
        "19,male,28.4,1,no,southwest,1842.519\n",
        "35,male,24.13,1,no,northwest,5125.2157\n",
        "48,male,29.7,0,no,southeast,7789.635\n",
        "32,female,37.145,3,no,northeast,6334.34355\n",
        "42,female,23.37,0,yes,northeast,19964.7463\n",
        "40,female,25.46,1,no,northeast,7077.1894\n",
        "44,male,39.52,0,no,northwest,6948.7008\n",
        "48,male,24.42,0,yes,southeast,21223.6758\n",
        "18,male,25.175,0,yes,northeast,15518.18025\n",
        "30,male,35.53,0,yes,southeast,36950.2567\n",
        "50,female,27.83,3,no,southeast,19749.38338\n",
        "42,female,26.6,0,yes,northwest,21348.706\n",
        "18,female,36.85,0,yes,southeast,36149.4835\n",
        "54,male,39.6,1,no,southwest,10450.552\n",
        "32,female,29.8,2,no,southwest,5152.134\n",
        "37,male,29.64,0,no,northwest,5028.1466\n",
        "47,male,28.215,4,no,northeast,10407.08585\n",
        "20,female,37,5,no,southwest,4830.63\n",
        "32,female,33.155,3,no,northwest,6128.79745\n",
        "19,female,31.825,1,no,northwest,2719.27975\n",
        "27,male,18.905,3,no,northeast,4827.90495\n",
        "63,male,41.47,0,no,southeast,13405.3903\n",
        "49,male,30.3,0,no,southwest,8116.68\n",
        "18,male,15.96,0,no,northeast,1694.7964\n",
        "35,female,34.8,1,no,southwest,5246.047\n",
        "24,female,33.345,0,no,northwest,2855.43755\n",
        "63,female,37.7,0,yes,southwest,48824.45\n",
        "38,male,27.835,2,no,northwest,6455.86265\n",
        "54,male,29.2,1,no,southwest,10436.096\n",
        "46,female,28.9,2,no,southwest,8823.279\n",
        "41,female,33.155,3,no,northeast,8538.28845\n",
        "58,male,28.595,0,no,northwest,11735.87905\n",
        "18,female,38.28,0,no,southeast,1631.8212\n",
        "22,male,19.95,3,no,northeast,4005.4225\n",
        "44,female,26.41,0,no,northwest,7419.4779\n",
        "44,male,30.69,2,no,southeast,7731.4271\n",
        "36,male,41.895,3,yes,northeast,43753.33705\n",
        "26,female,29.92,2,no,southeast,3981.9768\n",
        "30,female,30.9,3,no,southwest,5325.651\n",
        "41,female,32.2,1,no,southwest,6775.961\n",
        "29,female,32.11,2,no,northwest,4922.9159\n",
        "61,male,31.57,0,no,southeast,12557.6053\n",
        "36,female,26.2,0,no,southwest,4883.866\n",
        "25,male,25.74,0,no,southeast,2137.6536\n",
        "56,female,26.6,1,no,northwest,12044.342\n",
        "18,male,34.43,0,no,southeast,1137.4697\n",
        "19,male,30.59,0,no,northwest,1639.5631\n",
        "39,female,32.8,0,no,southwest,5649.715\n",
        "45,female,28.6,2,no,southeast,8516.829\n",
        "51,female,18.05,0,no,northwest,9644.2525\n",
        "64,female,39.33,0,no,northeast,14901.5167\n",
        "19,female,32.11,0,no,northwest,2130.6759\n",
        "48,female,32.23,1,no,southeast,8871.1517\n",
        "60,female,24.035,0,no,northwest,13012.20865\n",
        "27,female,36.08,0,yes,southeast,37133.8982\n",
        "46,male,22.3,0,no,southwest,7147.105\n",
        "28,female,28.88,1,no,northeast,4337.7352\n",
        "59,male,26.4,0,no,southeast,11743.299\n",
        "35,male,27.74,2,yes,northeast,20984.0936\n",
        "63,female,31.8,0,no,southwest,13880.949\n",
        "40,male,41.23,1,no,northeast,6610.1097\n",
        "20,male,33,1,no,southwest,1980.07\n",
        "40,male,30.875,4,no,northwest,8162.71625\n",
        "24,male,28.5,2,no,northwest,3537.703\n",
        "34,female,26.73,1,no,southeast,5002.7827\n",
        "45,female,30.9,2,no,southwest,8520.026\n",
        "41,female,37.1,2,no,southwest,7371.772\n",
        "53,female,26.6,0,no,northwest,10355.641\n",
        "27,male,23.1,0,no,southeast,2483.736\n",
        "26,female,29.92,1,no,southeast,3392.9768\n",
        "24,female,23.21,0,no,southeast,25081.76784\n",
        "34,female,33.7,1,no,southwest,5012.471\n",
        "53,female,33.25,0,no,northeast,10564.8845\n",
        "32,male,30.8,3,no,southwest,5253.524\n",
        "19,male,34.8,0,yes,southwest,34779.615\n",
        "42,male,24.64,0,yes,southeast,19515.5416\n",
        "55,male,33.88,3,no,southeast,11987.1682\n",
        "28,male,38.06,0,no,southeast,2689.4954\n",
        "58,female,41.91,0,no,southeast,24227.33724\n",
        "41,female,31.635,1,no,northeast,7358.17565\n",
        "47,male,25.46,2,no,northeast,9225.2564\n",
        "42,female,36.195,1,no,northwest,7443.64305\n",
        "59,female,27.83,3,no,southeast,14001.2867\n",
        "19,female,17.8,0,no,southwest,1727.785\n",
        "59,male,27.5,1,no,southwest,12333.828\n",
        "39,male,24.51,2,no,northwest,6710.1919\n",
        "40,female,22.22,2,yes,southeast,19444.2658\n",
        "18,female,26.73,0,no,southeast,1615.7667\n",
        "31,male,38.39,2,no,southeast,4463.2051\n",
        "19,male,29.07,0,yes,northwest,17352.6803\n",
        "44,male,38.06,1,no,southeast,7152.6714\n",
        "23,female,36.67,2,yes,northeast,38511.6283\n",
        "33,female,22.135,1,no,northeast,5354.07465\n",
        "55,female,26.8,1,no,southwest,35160.13457\n",
        "40,male,35.3,3,no,southwest,7196.867\n",
        "63,female,27.74,0,yes,northeast,29523.1656\n",
        "54,male,30.02,0,no,northwest,24476.47851\n",
        "60,female,38.06,0,no,southeast,12648.7034\n",
        "24,male,35.86,0,no,southeast,1986.9334\n",
        "19,male,20.9,1,no,southwest,1832.094\n",
        "29,male,28.975,1,no,northeast,4040.55825\n",
        "18,male,17.29,2,yes,northeast,12829.4551\n",
        "63,female,32.2,2,yes,southwest,47305.305\n",
        "54,male,34.21,2,yes,southeast,44260.7499\n",
        "27,male,30.3,3,no,southwest,4260.744\n",
        "50,male,31.825,0,yes,northeast,41097.16175\n",
        "55,female,25.365,3,no,northeast,13047.33235\n",
        "56,male,33.63,0,yes,northwest,43921.1837\n",
        "38,female,40.15,0,no,southeast,5400.9805\n",
        "51,male,24.415,4,no,northwest,11520.09985\n",
        "19,male,31.92,0,yes,northwest,33750.2918\n",
        "58,female,25.2,0,no,southwest,11837.16\n",
        "20,female,26.84,1,yes,southeast,17085.2676\n",
        "52,male,24.32,3,yes,northeast,24869.8368\n",
        "19,male,36.955,0,yes,northwest,36219.40545\n",
        "53,female,38.06,3,no,southeast,20462.99766\n",
        "46,male,42.35,3,yes,southeast,46151.1245\n",
        "40,male,19.8,1,yes,southeast,17179.522\n",
        "59,female,32.395,3,no,northeast,14590.63205\n",
        "45,male,30.2,1,no,southwest,7441.053\n",
        "49,male,25.84,1,no,northeast,9282.4806\n",
        "18,male,29.37,1,no,southeast,1719.4363\n",
        "50,male,34.2,2,yes,southwest,42856.838\n",
        "41,male,37.05,2,no,northwest,7265.7025\n",
        "50,male,27.455,1,no,northeast,9617.66245\n",
        "25,male,27.55,0,no,northwest,2523.1695\n",
        "47,female,26.6,2,no,northeast,9715.841\n",
        "19,male,20.615,2,no,northwest,2803.69785\n",
        "22,female,24.3,0,no,southwest,2150.469\n",
        "59,male,31.79,2,no,southeast,12928.7911\n",
        "51,female,21.56,1,no,southeast,9855.1314\n",
        "40,female,28.12,1,yes,northeast,22331.5668\n",
        "54,male,40.565,3,yes,northeast,48549.17835\n",
        "30,male,27.645,1,no,northeast,4237.12655\n",
        "55,female,32.395,1,no,northeast,11879.10405\n",
        "52,female,31.2,0,no,southwest,9625.92\n",
        "46,male,26.62,1,no,southeast,7742.1098\n",
        "46,female,48.07,2,no,northeast,9432.9253\n",
        "63,female,26.22,0,no,northwest,14256.1928\n",
        "59,female,36.765,1,yes,northeast,47896.79135\n",
        "52,male,26.4,3,no,southeast,25992.82104\n",
        "28,female,33.4,0,no,southwest,3172.018\n",
        "29,male,29.64,1,no,northeast,20277.80751\n",
        "25,male,45.54,2,yes,southeast,42112.2356\n",
        "22,female,28.82,0,no,southeast,2156.7518\n",
        "25,male,26.8,3,no,southwest,3906.127\n",
        "18,male,22.99,0,no,northeast,1704.5681\n",
        "19,male,27.7,0,yes,southwest,16297.846\n",
        "47,male,25.41,1,yes,southeast,21978.6769\n",
        "31,male,34.39,3,yes,northwest,38746.3551\n",
        "48,female,28.88,1,no,northwest,9249.4952\n",
        "36,male,27.55,3,no,northeast,6746.7425\n",
        "53,female,22.61,3,yes,northeast,24873.3849\n",
        "56,female,37.51,2,no,southeast,12265.5069\n",
        "28,female,33,2,no,southeast,4349.462\n",
        "57,female,38,2,no,southwest,12646.207\n",
        "29,male,33.345,2,no,northwest,19442.3535\n",
        "28,female,27.5,2,no,southwest,20177.67113\n",
        "30,female,33.33,1,no,southeast,4151.0287\n",
        "58,male,34.865,0,no,northeast,11944.59435\n",
        "41,female,33.06,2,no,northwest,7749.1564\n",
        "50,male,26.6,0,no,southwest,8444.474\n",
        "19,female,24.7,0,no,southwest,1737.376\n",
        "43,male,35.97,3,yes,southeast,42124.5153\n",
        "49,male,35.86,0,no,southeast,8124.4084\n",
        "27,female,31.4,0,yes,southwest,34838.873\n",
        "52,male,33.25,0,no,northeast,9722.7695\n",
        "50,male,32.205,0,no,northwest,8835.26495\n",
        "54,male,32.775,0,no,northeast,10435.06525\n",
        "44,female,27.645,0,no,northwest,7421.19455\n",
        "32,male,37.335,1,no,northeast,4667.60765\n",
        "34,male,25.27,1,no,northwest,4894.7533\n",
        "26,female,29.64,4,no,northeast,24671.66334\n",
        "34,male,30.8,0,yes,southwest,35491.64\n",
        "57,male,40.945,0,no,northeast,11566.30055\n",
        "29,male,27.2,0,no,southwest,2866.091\n",
        "40,male,34.105,1,no,northeast,6600.20595\n",
        "27,female,23.21,1,no,southeast,3561.8889\n",
        "45,male,36.48,2,yes,northwest,42760.5022\n",
        "64,female,33.8,1,yes,southwest,47928.03\n",
        "52,male,36.7,0,no,southwest,9144.565\n",
        "61,female,36.385,1,yes,northeast,48517.56315\n",
        "52,male,27.36,0,yes,northwest,24393.6224\n",
        "61,female,31.16,0,no,northwest,13429.0354\n",
        "56,female,28.785,0,no,northeast,11658.37915\n",
        "43,female,35.72,2,no,northeast,19144.57652\n",
        "64,male,34.5,0,no,southwest,13822.803\n",
        "60,male,25.74,0,no,southeast,12142.5786\n",
        "62,male,27.55,1,no,northwest,13937.6665\n",
        "50,male,32.3,1,yes,northeast,41919.097\n",
        "46,female,27.72,1,no,southeast,8232.6388\n",
        "24,female,27.6,0,no,southwest,18955.22017\n",
        "62,male,30.02,0,no,northwest,13352.0998\n",
        "60,female,27.55,0,no,northeast,13217.0945\n",
        "63,male,36.765,0,no,northeast,13981.85035\n",
        "49,female,41.47,4,no,southeast,10977.2063\n",
        "34,female,29.26,3,no,southeast,6184.2994\n",
        "33,male,35.75,2,no,southeast,4889.9995\n",
        "46,male,33.345,1,no,northeast,8334.45755\n",
        "36,female,29.92,1,no,southeast,5478.0368\n",
        "19,male,27.835,0,no,northwest,1635.73365\n",
        "57,female,23.18,0,no,northwest,11830.6072\n",
        "50,female,25.6,0,no,southwest,8932.084\n",
        "30,female,27.7,0,no,southwest,3554.203\n",
        "33,male,35.245,0,no,northeast,12404.8791\n",
        "18,female,38.28,0,no,southeast,14133.03775\n",
        "46,male,27.6,0,no,southwest,24603.04837\n",
        "46,male,43.89,3,no,southeast,8944.1151\n",
        "47,male,29.83,3,no,northwest,9620.3307\n",
        "23,male,41.91,0,no,southeast,1837.2819\n",
        "18,female,20.79,0,no,southeast,1607.5101\n",
        "48,female,32.3,2,no,northeast,10043.249\n",
        "35,male,30.5,1,no,southwest,4751.07\n",
        "19,female,21.7,0,yes,southwest,13844.506\n",
        "21,female,26.4,1,no,southwest,2597.779\n",
        "21,female,21.89,2,no,southeast,3180.5101\n",
        "49,female,30.78,1,no,northeast,9778.3472\n",
        "56,female,32.3,3,no,northeast,13430.265\n",
        "42,female,24.985,2,no,northwest,8017.06115\n",
        "44,male,32.015,2,no,northwest,8116.26885\n",
        "18,male,30.4,3,no,northeast,3481.868\n",
        "61,female,21.09,0,no,northwest,13415.0381\n",
        "57,female,22.23,0,no,northeast,12029.2867\n",
        "42,female,33.155,1,no,northeast,7639.41745\n",
        "26,male,32.9,2,yes,southwest,36085.219\n",
        "20,male,33.33,0,no,southeast,1391.5287\n",
        "23,female,28.31,0,yes,northwest,18033.9679\n",
        "39,female,24.89,3,yes,northeast,21659.9301\n",
        "24,male,40.15,0,yes,southeast,38126.2465\n",
        "64,female,30.115,3,no,northwest,16455.70785\n",
        "62,male,31.46,1,no,southeast,27000.98473\n",
        "27,female,17.955,2,yes,northeast,15006.57945\n",
        "55,male,30.685,0,yes,northeast,42303.69215\n",
        "55,male,33,0,no,southeast,20781.48892\n",
        "35,female,43.34,2,no,southeast,5846.9176\n",
        "44,male,22.135,2,no,northeast,8302.53565\n",
        "19,male,34.4,0,no,southwest,1261.859\n",
        "58,female,39.05,0,no,southeast,11856.4115\n",
        "50,male,25.365,2,no,northwest,30284.64294\n",
        "26,female,22.61,0,no,northwest,3176.8159\n",
        "24,female,30.21,3,no,northwest,4618.0799\n",
        "48,male,35.625,4,no,northeast,10736.87075\n",
        "19,female,37.43,0,no,northwest,2138.0707\n",
        "48,male,31.445,1,no,northeast,8964.06055\n",
        "49,male,31.35,1,no,northeast,9290.1395\n",
        "46,female,32.3,2,no,northeast,9411.005\n",
        "46,male,19.855,0,no,northwest,7526.70645\n",
        "43,female,34.4,3,no,southwest,8522.003\n",
        "21,male,31.02,0,no,southeast,16586.49771\n",
        "64,male,25.6,2,no,southwest,14988.432\n",
        "18,female,38.17,0,no,southeast,1631.6683\n",
        "51,female,20.6,0,no,southwest,9264.797\n",
        "47,male,47.52,1,no,southeast,8083.9198\n",
        "64,female,32.965,0,no,northwest,14692.66935\n",
        "49,male,32.3,3,no,northwest,10269.46\n",
        "31,male,20.4,0,no,southwest,3260.199\n",
        "52,female,38.38,2,no,northeast,11396.9002\n",
        "33,female,24.31,0,no,southeast,4185.0979\n",
        "47,female,23.6,1,no,southwest,8539.671\n",
        "38,male,21.12,3,no,southeast,6652.5288\n",
        "32,male,30.03,1,no,southeast,4074.4537\n",
        "19,male,17.48,0,no,northwest,1621.3402\n",
        "44,female,20.235,1,yes,northeast,19594.80965\n",
        "26,female,17.195,2,yes,northeast,14455.64405\n",
        "25,male,23.9,5,no,southwest,5080.096\n",
        "19,female,35.15,0,no,northwest,2134.9015\n",
        "43,female,35.64,1,no,southeast,7345.7266\n",
        "52,male,34.1,0,no,southeast,9140.951\n",
        "36,female,22.6,2,yes,southwest,18608.262\n",
        "64,male,39.16,1,no,southeast,14418.2804\n",
        "63,female,26.98,0,yes,northwest,28950.4692\n",
        "64,male,33.88,0,yes,southeast,46889.2612\n",
        "61,male,35.86,0,yes,southeast,46599.1084\n",
        "40,male,32.775,1,yes,northeast,39125.33225\n",
        "25,male,30.59,0,no,northeast,2727.3951\n",
        "48,male,30.2,2,no,southwest,8968.33\n",
        "45,male,24.31,5,no,southeast,9788.8659\n",
        "38,female,27.265,1,no,northeast,6555.07035\n",
        "18,female,29.165,0,no,northeast,7323.734819\n",
        "21,female,16.815,1,no,northeast,3167.45585\n",
        "27,female,30.4,3,no,northwest,18804.7524\n",
        "19,male,33.1,0,no,southwest,23082.95533\n",
        "29,female,20.235,2,no,northwest,4906.40965\n",
        "42,male,26.9,0,no,southwest,5969.723\n",
        "60,female,30.5,0,no,southwest,12638.195\n",
        "31,male,28.595,1,no,northwest,4243.59005\n",
        "60,male,33.11,3,no,southeast,13919.8229\n",
        "22,male,31.73,0,no,northeast,2254.7967\n",
        "35,male,28.9,3,no,southwest,5926.846\n",
        "52,female,46.75,5,no,southeast,12592.5345\n",
        "26,male,29.45,0,no,northeast,2897.3235\n",
        "31,female,32.68,1,no,northwest,4738.2682\n",
        "33,female,33.5,0,yes,southwest,37079.372\n",
        "18,male,43.01,0,no,southeast,1149.3959\n",
        "59,female,36.52,1,no,southeast,28287.89766\n",
        "56,male,26.695,1,yes,northwest,26109.32905\n",
        "45,female,33.1,0,no,southwest,7345.084\n",
        "60,male,29.64,0,no,northeast,12730.9996\n",
        "56,female,25.65,0,no,northwest,11454.0215\n",
        "40,female,29.6,0,no,southwest,5910.944\n",
        "35,male,38.6,1,no,southwest,4762.329\n",
        "39,male,29.6,4,no,southwest,7512.267\n",
        "30,male,24.13,1,no,northwest,4032.2407\n",
        "24,male,23.4,0,no,southwest,1969.614\n",
        "20,male,29.735,0,no,northwest,1769.53165\n",
        "32,male,46.53,2,no,southeast,4686.3887\n",
        "59,male,37.4,0,no,southwest,21797.0004\n",
        "55,female,30.14,2,no,southeast,11881.9696\n",
        "57,female,30.495,0,no,northwest,11840.77505\n",
        "56,male,39.6,0,no,southwest,10601.412\n",
        "40,female,33,3,no,southeast,7682.67\n",
        "49,female,36.63,3,no,southeast,10381.4787\n",
        "42,male,30,0,yes,southwest,22144.032\n",
        "62,female,38.095,2,no,northeast,15230.32405\n",
        "56,male,25.935,0,no,northeast,11165.41765\n",
        "19,male,25.175,0,no,northwest,1632.03625\n",
        "30,female,28.38,1,yes,southeast,19521.9682\n",
        "60,female,28.7,1,no,southwest,13224.693\n",
        "56,female,33.82,2,no,northwest,12643.3778\n",
        "28,female,24.32,1,no,northeast,23288.9284\n",
        "18,female,24.09,1,no,southeast,2201.0971\n",
        "27,male,32.67,0,no,southeast,2497.0383\n",
        "18,female,30.115,0,no,northeast,2203.47185\n",
        "19,female,29.8,0,no,southwest,1744.465\n",
        "47,female,33.345,0,no,northeast,20878.78443\n",
        "54,male,25.1,3,yes,southwest,25382.297\n",
        "61,male,28.31,1,yes,northwest,28868.6639\n",
        "24,male,28.5,0,yes,northeast,35147.52848\n",
        "25,male,35.625,0,no,northwest,2534.39375\n",
        "21,male,36.85,0,no,southeast,1534.3045\n",
        "23,male,32.56,0,no,southeast,1824.2854\n",
        "63,male,41.325,3,no,northwest,15555.18875\n",
        "49,male,37.51,2,no,southeast,9304.7019\n",
        "18,female,31.35,0,no,southeast,1622.1885\n",
        "51,female,39.5,1,no,southwest,9880.068\n",
        "48,male,34.3,3,no,southwest,9563.029\n",
        "31,female,31.065,0,no,northeast,4347.02335\n",
        "54,female,21.47,3,no,northwest,12475.3513\n",
        "19,male,28.7,0,no,southwest,1253.936\n",
        "44,female,38.06,0,yes,southeast,48885.13561\n",
        "53,male,31.16,1,no,northwest,10461.9794\n",
        "19,female,32.9,0,no,southwest,1748.774\n",
        "61,female,25.08,0,no,southeast,24513.09126\n",
        "18,female,25.08,0,no,northeast,2196.4732\n",
        "61,male,43.4,0,no,southwest,12574.049\n",
        "21,male,25.7,4,yes,southwest,17942.106\n",
        "20,male,27.93,0,no,northeast,1967.0227\n",
        "31,female,23.6,2,no,southwest,4931.647\n",
        "45,male,28.7,2,no,southwest,8027.968\n",
        "44,female,23.98,2,no,southeast,8211.1002\n",
        "62,female,39.2,0,no,southwest,13470.86\n",
        "29,male,34.4,0,yes,southwest,36197.699\n",
        "43,male,26.03,0,no,northeast,6837.3687\n",
        "51,male,23.21,1,yes,southeast,22218.1149\n",
        "19,male,30.25,0,yes,southeast,32548.3405\n",
        "38,female,28.93,1,no,southeast,5974.3847\n",
        "37,male,30.875,3,no,northwest,6796.86325\n",
        "22,male,31.35,1,no,northwest,2643.2685\n",
        "21,male,23.75,2,no,northwest,3077.0955\n",
        "24,female,25.27,0,no,northeast,3044.2133\n",
        "57,female,28.7,0,no,southwest,11455.28\n",
        "56,male,32.11,1,no,northeast,11763.0009\n",
        "27,male,33.66,0,no,southeast,2498.4144\n",
        "51,male,22.42,0,no,northeast,9361.3268\n",
        "19,male,30.4,0,no,southwest,1256.299\n",
        "39,male,28.3,1,yes,southwest,21082.16\n",
        "58,male,35.7,0,no,southwest,11362.755\n",
        "20,male,35.31,1,no,southeast,27724.28875\n",
        "45,male,30.495,2,no,northwest,8413.46305\n",
        "35,female,31,1,no,southwest,5240.765\n",
        "31,male,30.875,0,no,northeast,3857.75925\n",
        "50,female,27.36,0,no,northeast,25656.57526\n",
        "32,female,44.22,0,no,southeast,3994.1778\n",
        "51,female,33.915,0,no,northeast,9866.30485\n",
        "38,female,37.73,0,no,southeast,5397.6167\n",
        "42,male,26.07,1,yes,southeast,38245.59327\n",
        "18,female,33.88,0,no,southeast,11482.63485\n",
        "19,female,30.59,2,no,northwest,24059.68019\n",
        "51,female,25.8,1,no,southwest,9861.025\n",
        "46,male,39.425,1,no,northeast,8342.90875\n",
        "18,male,25.46,0,no,northeast,1708.0014\n",
        "57,male,42.13,1,yes,southeast,48675.5177\n",
        "62,female,31.73,0,no,northeast,14043.4767\n",
        "59,male,29.7,2,no,southeast,12925.886\n",
        "37,male,36.19,0,no,southeast,19214.70553\n",
        "64,male,40.48,0,no,southeast,13831.1152\n",
        "38,male,28.025,1,no,northeast,6067.12675\n",
        "33,female,38.9,3,no,southwest,5972.378\n",
        "46,female,30.2,2,no,southwest,8825.086\n",
        "46,female,28.05,1,no,southeast,8233.0975\n",
        "53,male,31.35,0,no,southeast,27346.04207\n",
        "34,female,38,3,no,southwest,6196.448\n",
        "20,female,31.79,2,no,southeast,3056.3881\n",
        "63,female,36.3,0,no,southeast,13887.204\n",
        "54,female,47.41,0,yes,southeast,63770.42801\n",
        "54,male,30.21,0,no,northwest,10231.4999\n",
        "49,male,25.84,2,yes,northwest,23807.2406\n",
        "28,male,35.435,0,no,northeast,3268.84665\n",
        "54,female,46.7,2,no,southwest,11538.421\n",
        "25,female,28.595,0,no,northeast,3213.62205\n",
        "43,female,46.2,0,yes,southeast,45863.205\n",
        "63,male,30.8,0,no,southwest,13390.559\n",
        "32,female,28.93,0,no,southeast,3972.9247\n",
        "62,male,21.4,0,no,southwest,12957.118\n",
        "52,female,31.73,2,no,northwest,11187.6567\n",
        "25,female,41.325,0,no,northeast,17878.90068\n",
        "28,male,23.8,2,no,southwest,3847.674\n",
        "46,male,33.44,1,no,northeast,8334.5896\n",
        "34,male,34.21,0,no,southeast,3935.1799\n",
        "35,female,34.105,3,yes,northwest,39983.42595\n",
        "19,male,35.53,0,no,northwest,1646.4297\n",
        "46,female,19.95,2,no,northwest,9193.8385\n",
        "54,female,32.68,0,no,northeast,10923.9332\n",
        "27,male,30.5,0,no,southwest,2494.022\n",
        "50,male,44.77,1,no,southeast,9058.7303\n",
        "18,female,32.12,2,no,southeast,2801.2588\n",
        "19,female,30.495,0,no,northwest,2128.43105\n",
        "38,female,40.565,1,no,northwest,6373.55735\n",
        "41,male,30.59,2,no,northwest,7256.7231\n",
        "49,female,31.9,5,no,southwest,11552.904\n",
        "48,male,40.565,2,yes,northwest,45702.02235\n",
        "31,female,29.1,0,no,southwest,3761.292\n",
        "18,female,37.29,1,no,southeast,2219.4451\n",
        "30,female,43.12,2,no,southeast,4753.6368\n",
        "62,female,36.86,1,no,northeast,31620.00106\n",
        "57,female,34.295,2,no,northeast,13224.05705\n",
        "58,female,27.17,0,no,northwest,12222.8983\n",
        "22,male,26.84,0,no,southeast,1664.9996\n",
        "31,female,38.095,1,yes,northeast,58571.07448\n",
        "52,male,30.2,1,no,southwest,9724.53\n",
        "25,female,23.465,0,no,northeast,3206.49135\n",
        "59,male,25.46,1,no,northeast,12913.9924\n",
        "19,male,30.59,0,no,northwest,1639.5631\n",
        "39,male,45.43,2,no,southeast,6356.2707\n",
        "32,female,23.65,1,no,southeast,17626.23951\n",
        "19,male,20.7,0,no,southwest,1242.816\n",
        "33,female,28.27,1,no,southeast,4779.6023\n",
        "21,male,20.235,3,no,northeast,3861.20965\n",
        "34,female,30.21,1,yes,northwest,43943.8761\n",
        "61,female,35.91,0,no,northeast,13635.6379\n",
        "38,female,30.69,1,no,southeast,5976.8311\n",
        "58,female,29,0,no,southwest,11842.442\n",
        "47,male,19.57,1,no,northwest,8428.0693\n",
        "20,male,31.13,2,no,southeast,2566.4707\n",
        "21,female,21.85,1,yes,northeast,15359.1045\n",
        "41,male,40.26,0,no,southeast,5709.1644\n",
        "46,female,33.725,1,no,northeast,8823.98575\n",
        "42,female,29.48,2,no,southeast,7640.3092\n",
        "34,female,33.25,1,no,northeast,5594.8455\n",
        "43,male,32.6,2,no,southwest,7441.501\n",
        "52,female,37.525,2,no,northwest,33471.97189\n",
        "18,female,39.16,0,no,southeast,1633.0444\n",
        "51,male,31.635,0,no,northwest,9174.13565\n",
        "56,female,25.3,0,no,southwest,11070.535\n",
        "64,female,39.05,3,no,southeast,16085.1275\n",
        "19,female,28.31,0,yes,northwest,17468.9839\n",
        "51,female,34.1,0,no,southeast,9283.562\n",
        "27,female,25.175,0,no,northeast,3558.62025\n",
        "59,female,23.655,0,yes,northwest,25678.77845\n",
        "28,male,26.98,2,no,northeast,4435.0942\n",
        "30,male,37.8,2,yes,southwest,39241.442\n",
        "47,female,29.37,1,no,southeast,8547.6913\n",
        "38,female,34.8,2,no,southwest,6571.544\n",
        "18,female,33.155,0,no,northeast,2207.69745\n",
        "34,female,19,3,no,northeast,6753.038\n",
        "20,female,33,0,no,southeast,1880.07\n",
        "47,female,36.63,1,yes,southeast,42969.8527\n",
        "56,female,28.595,0,no,northeast,11658.11505\n",
        "49,male,25.6,2,yes,southwest,23306.547\n",
        "19,female,33.11,0,yes,southeast,34439.8559\n",
        "55,female,37.1,0,no,southwest,10713.644\n",
        "30,male,31.4,1,no,southwest,3659.346\n",
        "37,male,34.1,4,yes,southwest,40182.246\n",
        "49,female,21.3,1,no,southwest,9182.17\n",
        "18,male,33.535,0,yes,northeast,34617.84065\n",
        "59,male,28.785,0,no,northwest,12129.61415\n",
        "29,female,26.03,0,no,northwest,3736.4647\n",
        "36,male,28.88,3,no,northeast,6748.5912\n",
        "33,male,42.46,1,no,southeast,11326.71487\n",
        "58,male,38,0,no,southwest,11365.952\n",
        "44,female,38.95,0,yes,northwest,42983.4585\n",
        "53,male,36.1,1,no,southwest,10085.846\n",
        "24,male,29.3,0,no,southwest,1977.815\n",
        "29,female,35.53,0,no,southeast,3366.6697\n",
        "40,male,22.705,2,no,northeast,7173.35995\n",
        "51,male,39.7,1,no,southwest,9391.346\n",
        "64,male,38.19,0,no,northeast,14410.9321\n",
        "19,female,24.51,1,no,northwest,2709.1119\n",
        "35,female,38.095,2,no,northeast,24915.04626\n",
        "39,male,26.41,0,yes,northeast,20149.3229\n",
        "56,male,33.66,4,no,southeast,12949.1554\n",
        "33,male,42.4,5,no,southwest,6666.243\n",
        "42,male,28.31,3,yes,northwest,32787.45859\n",
        "61,male,33.915,0,no,northeast,13143.86485\n",
        "23,female,34.96,3,no,northwest,4466.6214\n",
        "43,male,35.31,2,no,southeast,18806.14547\n",
        "48,male,30.78,3,no,northeast,10141.1362\n",
        "39,male,26.22,1,no,northwest,6123.5688\n",
        "40,female,23.37,3,no,northeast,8252.2843\n",
        "18,male,28.5,0,no,northeast,1712.227\n",
        "58,female,32.965,0,no,northeast,12430.95335\n",
        "49,female,42.68,2,no,southeast,9800.8882\n",
        "53,female,39.6,1,no,southeast,10579.711\n",
        "48,female,31.13,0,no,southeast,8280.6227\n",
        "45,female,36.3,2,no,southeast,8527.532\n",
        "59,female,35.2,0,no,southeast,12244.531\n",
        "52,female,25.3,2,yes,southeast,24667.419\n",
        "26,female,42.4,1,no,southwest,3410.324\n",
        "27,male,33.155,2,no,northwest,4058.71245\n",
        "48,female,35.91,1,no,northeast,26392.26029\n",
        "57,female,28.785,4,no,northeast,14394.39815\n",
        "37,male,46.53,3,no,southeast,6435.6237\n",
        "57,female,23.98,1,no,southeast,22192.43711\n",
        "32,female,31.54,1,no,northeast,5148.5526\n",
        "18,male,33.66,0,no,southeast,1136.3994\n",
        "64,female,22.99,0,yes,southeast,27037.9141\n",
        "43,male,38.06,2,yes,southeast,42560.4304\n",
        "49,male,28.7,1,no,southwest,8703.456\n",
        "40,female,32.775,2,yes,northwest,40003.33225\n",
        "62,male,32.015,0,yes,northeast,45710.20785\n",
        "40,female,29.81,1,no,southeast,6500.2359\n",
        "30,male,31.57,3,no,southeast,4837.5823\n",
        "29,female,31.16,0,no,northeast,3943.5954\n",
        "36,male,29.7,0,no,southeast,4399.731\n",
        "41,female,31.02,0,no,southeast,6185.3208\n",
        "44,female,43.89,2,yes,southeast,46200.9851\n",
        "45,male,21.375,0,no,northwest,7222.78625\n",
        "55,female,40.81,3,no,southeast,12485.8009\n",
        "60,male,31.35,3,yes,northwest,46130.5265\n",
        "56,male,36.1,3,no,southwest,12363.547\n",
        "49,female,23.18,2,no,northwest,10156.7832\n",
        "21,female,17.4,1,no,southwest,2585.269\n",
        "19,male,20.3,0,no,southwest,1242.26\n",
        "39,male,35.3,2,yes,southwest,40103.89\n",
        "53,male,24.32,0,no,northwest,9863.4718\n",
        "33,female,18.5,1,no,southwest,4766.022\n",
        "53,male,26.41,2,no,northeast,11244.3769\n",
        "42,male,26.125,2,no,northeast,7729.64575\n",
        "40,male,41.69,0,no,southeast,5438.7491\n",
        "47,female,24.1,1,no,southwest,26236.57997\n",
        "27,male,31.13,1,yes,southeast,34806.4677\n",
        "21,male,27.36,0,no,northeast,2104.1134\n",
        "47,male,36.2,1,no,southwest,8068.185\n",
        "20,male,32.395,1,no,northwest,2362.22905\n",
        "24,male,23.655,0,no,northwest,2352.96845\n",
        "27,female,34.8,1,no,southwest,3577.999\n",
        "26,female,40.185,0,no,northwest,3201.24515\n",
        "53,female,32.3,2,no,northeast,29186.48236\n",
        "41,male,35.75,1,yes,southeast,40273.6455\n",
        "56,male,33.725,0,no,northwest,10976.24575\n",
        "23,female,39.27,2,no,southeast,3500.6123\n",
        "21,female,34.87,0,no,southeast,2020.5523\n",
        "50,female,44.745,0,no,northeast,9541.69555\n",
        "53,male,41.47,0,no,southeast,9504.3103\n",
        "34,female,26.41,1,no,northwest,5385.3379\n",
        "47,female,29.545,1,no,northwest,8930.93455\n",
        "33,female,32.9,2,no,southwest,5375.038\n",
        "51,female,38.06,0,yes,southeast,44400.4064\n",
        "49,male,28.69,3,no,northwest,10264.4421\n",
        "31,female,30.495,3,no,northeast,6113.23105\n",
        "36,female,27.74,0,no,northeast,5469.0066\n",
        "18,male,35.2,1,no,southeast,1727.54\n",
        "50,female,23.54,2,no,southeast,10107.2206\n",
        "43,female,30.685,2,no,northwest,8310.83915\n",
        "20,male,40.47,0,no,northeast,1984.4533\n",
        "24,female,22.6,0,no,southwest,2457.502\n",
        "60,male,28.9,0,no,southwest,12146.971\n",
        "49,female,22.61,1,no,northwest,9566.9909\n",
        "60,male,24.32,1,no,northwest,13112.6048\n",
        "51,female,36.67,2,no,northwest,10848.1343\n",
        "58,female,33.44,0,no,northwest,12231.6136\n",
        "51,female,40.66,0,no,northeast,9875.6804\n",
        "53,male,36.6,3,no,southwest,11264.541\n",
        "62,male,37.4,0,no,southwest,12979.358\n",
        "19,male,35.4,0,no,southwest,1263.249\n",
        "50,female,27.075,1,no,northeast,10106.13425\n",
        "30,female,39.05,3,yes,southeast,40932.4295\n",
        "41,male,28.405,1,no,northwest,6664.68595\n",
        "29,female,21.755,1,yes,northeast,16657.71745\n",
        "18,female,40.28,0,no,northeast,2217.6012\n",
        "41,female,36.08,1,no,southeast,6781.3542\n",
        "35,male,24.42,3,yes,southeast,19361.9988\n",
        "53,male,21.4,1,no,southwest,10065.413\n",
        "24,female,30.1,3,no,southwest,4234.927\n",
        "48,female,27.265,1,no,northeast,9447.25035\n",
        "59,female,32.1,3,no,southwest,14007.222\n",
        "49,female,34.77,1,no,northwest,9583.8933\n",
        "37,female,38.39,0,yes,southeast,40419.0191\n",
        "26,male,23.7,2,no,southwest,3484.331\n",
        "23,male,31.73,3,yes,northeast,36189.1017\n",
        "29,male,35.5,2,yes,southwest,44585.45587\n",
        "45,male,24.035,2,no,northeast,8604.48365\n",
        "27,male,29.15,0,yes,southeast,18246.4955\n",
        "53,male,34.105,0,yes,northeast,43254.41795\n",
        "31,female,26.62,0,no,southeast,3757.8448\n",
        "50,male,26.41,0,no,northwest,8827.2099\n",
        "50,female,30.115,1,no,northwest,9910.35985\n",
        "34,male,27,2,no,southwest,11737.84884\n",
        "19,male,21.755,0,no,northwest,1627.28245\n",
        "47,female,36,1,no,southwest,8556.907\n",
        "28,male,30.875,0,no,northwest,3062.50825\n",
        "37,female,26.4,0,yes,southeast,19539.243\n",
        "21,male,28.975,0,no,northwest,1906.35825\n",
        "64,male,37.905,0,no,northwest,14210.53595\n",
        "58,female,22.77,0,no,southeast,11833.7823\n",
        "24,male,33.63,4,no,northeast,17128.42608\n",
        "31,male,27.645,2,no,northeast,5031.26955\n",
        "39,female,22.8,3,no,northeast,7985.815\n",
        "47,female,27.83,0,yes,southeast,23065.4207\n",
        "30,male,37.43,3,no,northeast,5428.7277\n",
        "18,male,38.17,0,yes,southeast,36307.7983\n",
        "22,female,34.58,2,no,northeast,3925.7582\n",
        "23,male,35.2,1,no,southwest,2416.955\n",
        "33,male,27.1,1,yes,southwest,19040.876\n",
        "27,male,26.03,0,no,northeast,3070.8087\n",
        "45,female,25.175,2,no,northeast,9095.06825\n",
        "57,female,31.825,0,no,northwest,11842.62375\n",
        "47,male,32.3,1,no,southwest,8062.764\n",
        "42,female,29,1,no,southwest,7050.642\n",
        "64,female,39.7,0,no,southwest,14319.031\n",
        "38,female,19.475,2,no,northwest,6933.24225\n",
        "61,male,36.1,3,no,southwest,27941.28758\n",
        "53,female,26.7,2,no,southwest,11150.78\n",
        "44,female,36.48,0,no,northeast,12797.20962\n",
        "19,female,28.88,0,yes,northwest,17748.5062\n",
        "41,male,34.2,2,no,northwest,7261.741\n",
        "51,male,33.33,3,no,southeast,10560.4917\n",
        "40,male,32.3,2,no,northwest,6986.697\n",
        "45,male,39.805,0,no,northeast,7448.40395\n",
        "35,male,34.32,3,no,southeast,5934.3798\n",
        "53,male,28.88,0,no,northwest,9869.8102\n",
        "30,male,24.4,3,yes,southwest,18259.216\n",
        "18,male,41.14,0,no,southeast,1146.7966\n",
        "51,male,35.97,1,no,southeast,9386.1613\n",
        "50,female,27.6,1,yes,southwest,24520.264\n",
        "31,female,29.26,1,no,southeast,4350.5144\n",
        "35,female,27.7,3,no,southwest,6414.178\n",
        "60,male,36.955,0,no,northeast,12741.16745\n",
        "21,male,36.86,0,no,northwest,1917.3184\n",
        "29,male,22.515,3,no,northeast,5209.57885\n",
        "62,female,29.92,0,no,southeast,13457.9608\n",
        "39,female,41.8,0,no,southeast,5662.225\n",
        "19,male,27.6,0,no,southwest,1252.407\n",
        "22,female,23.18,0,no,northeast,2731.9122\n",
        "53,male,20.9,0,yes,southeast,21195.818\n",
        "39,female,31.92,2,no,northwest,7209.4918\n",
        "27,male,28.5,0,yes,northwest,18310.742\n",
        "30,male,44.22,2,no,southeast,4266.1658\n",
        "30,female,22.895,1,no,northeast,4719.52405\n",
        "58,female,33.1,0,no,southwest,11848.141\n",
        "33,male,24.795,0,yes,northeast,17904.52705\n",
        "42,female,26.18,1,no,southeast,7046.7222\n",
        "64,female,35.97,0,no,southeast,14313.8463\n",
        "21,male,22.3,1,no,southwest,2103.08\n",
        "18,female,42.24,0,yes,southeast,38792.6856\n",
        "23,male,26.51,0,no,southeast,1815.8759\n",
        "45,female,35.815,0,no,northwest,7731.85785\n",
        "40,female,41.42,1,no,northwest,28476.73499\n",
        "19,female,36.575,0,no,northwest,2136.88225\n",
        "18,male,30.14,0,no,southeast,1131.5066\n",
        "25,male,25.84,1,no,northeast,3309.7926\n",
        "46,female,30.8,3,no,southwest,9414.92\n",
        "33,female,42.94,3,no,northwest,6360.9936\n",
        "54,male,21.01,2,no,southeast,11013.7119\n",
        "28,male,22.515,2,no,northeast,4428.88785\n",
        "36,male,34.43,2,no,southeast,5584.3057\n",
        "20,female,31.46,0,no,southeast,1877.9294\n",
        "24,female,24.225,0,no,northwest,2842.76075\n",
        "23,male,37.1,3,no,southwest,3597.596\n",
        "47,female,26.125,1,yes,northeast,23401.30575\n",
        "33,female,35.53,0,yes,northwest,55135.40209\n",
        "45,male,33.7,1,no,southwest,7445.918\n",
        "26,male,17.67,0,no,northwest,2680.9493\n",
        "18,female,31.13,0,no,southeast,1621.8827\n",
        "44,female,29.81,2,no,southeast,8219.2039\n",
        "60,male,24.32,0,no,northwest,12523.6048\n",
        "64,female,31.825,2,no,northeast,16069.08475\n",
        "56,male,31.79,2,yes,southeast,43813.8661\n",
        "36,male,28.025,1,yes,northeast,20773.62775\n",
        "41,male,30.78,3,yes,northeast,39597.4072\n",
        "39,male,21.85,1,no,northwest,6117.4945\n",
        "63,male,33.1,0,no,southwest,13393.756\n",
        "36,female,25.84,0,no,northwest,5266.3656\n",
        "28,female,23.845,2,no,northwest,4719.73655\n",
        "58,male,34.39,0,no,northwest,11743.9341\n",
        "36,male,33.82,1,no,northwest,5377.4578\n",
        "42,male,35.97,2,no,southeast,7160.3303\n",
        "36,male,31.5,0,no,southwest,4402.233\n",
        "56,female,28.31,0,no,northeast,11657.7189\n",
        "35,female,23.465,2,no,northeast,6402.29135\n",
        "59,female,31.35,0,no,northwest,12622.1795\n",
        "21,male,31.1,0,no,southwest,1526.312\n",
        "59,male,24.7,0,no,northeast,12323.936\n",
        "23,female,32.78,2,yes,southeast,36021.0112\n",
        "57,female,29.81,0,yes,southeast,27533.9129\n",
        "53,male,30.495,0,no,northeast,10072.05505\n",
        "60,female,32.45,0,yes,southeast,45008.9555\n",
        "51,female,34.2,1,no,southwest,9872.701\n",
        "23,male,50.38,1,no,southeast,2438.0552\n",
        "27,female,24.1,0,no,southwest,2974.126\n",
        "55,male,32.775,0,no,northwest,10601.63225\n",
        "37,female,30.78,0,yes,northeast,37270.1512\n",
        "61,male,32.3,2,no,northwest,14119.62\n",
        "46,female,35.53,0,yes,northeast,42111.6647\n",
        "53,female,23.75,2,no,northeast,11729.6795\n",
        "49,female,23.845,3,yes,northeast,24106.91255\n",
        "20,female,29.6,0,no,southwest,1875.344\n",
        "48,female,33.11,0,yes,southeast,40974.1649\n",
        "25,male,24.13,0,yes,northwest,15817.9857\n",
        "25,female,32.23,1,no,southeast,18218.16139\n",
        "57,male,28.1,0,no,southwest,10965.446\n",
        "37,female,47.6,2,yes,southwest,46113.511\n",
        "38,female,28,3,no,southwest,7151.092\n",
        "55,female,33.535,2,no,northwest,12269.68865\n",
        "36,female,19.855,0,no,northeast,5458.04645\n",
        "51,male,25.4,0,no,southwest,8782.469\n",
        "40,male,29.9,2,no,southwest,6600.361\n",
        "18,male,37.29,0,no,southeast,1141.4451\n",
        "57,male,43.7,1,no,southwest,11576.13\n",
        "61,male,23.655,0,no,northeast,13129.60345\n",
        "25,female,24.3,3,no,southwest,4391.652\n",
        "50,male,36.2,0,no,southwest,8457.818\n",
        "26,female,29.48,1,no,southeast,3392.3652\n",
        "42,male,24.86,0,no,southeast,5966.8874\n",
        "43,male,30.1,1,no,southwest,6849.026\n",
        "44,male,21.85,3,no,northeast,8891.1395\n",
        "23,female,28.12,0,no,northwest,2690.1138\n",
        "49,female,27.1,1,no,southwest,26140.3603\n",
        "33,male,33.44,5,no,southeast,6653.7886\n",
        "41,male,28.8,1,no,southwest,6282.235\n",
        "37,female,29.5,2,no,southwest,6311.952\n",
        "22,male,34.8,3,no,southwest,3443.064\n",
        "23,male,27.36,1,no,northwest,2789.0574\n",
        "21,female,22.135,0,no,northeast,2585.85065\n",
        "51,female,37.05,3,yes,northeast,46255.1125\n",
        "25,male,26.695,4,no,northwest,4877.98105\n",
        "32,male,28.93,1,yes,southeast,19719.6947\n",
        "57,male,28.975,0,yes,northeast,27218.43725\n",
        "36,female,30.02,0,no,northwest,5272.1758\n",
        "22,male,39.5,0,no,southwest,1682.597\n",
        "57,male,33.63,1,no,northwest,11945.1327\n",
        "64,female,26.885,0,yes,northwest,29330.98315\n",
        "36,female,29.04,4,no,southeast,7243.8136\n",
        "54,male,24.035,0,no,northeast,10422.91665\n",
        "47,male,38.94,2,yes,southeast,44202.6536\n",
        "62,male,32.11,0,no,northeast,13555.0049\n",
        "61,female,44,0,no,southwest,13063.883\n",
        "43,female,20.045,2,yes,northeast,19798.05455\n",
        "19,male,25.555,1,no,northwest,2221.56445\n",
        "18,female,40.26,0,no,southeast,1634.5734\n",
        "19,female,22.515,0,no,northwest,2117.33885\n",
        "49,male,22.515,0,no,northeast,8688.85885\n",
        "60,male,40.92,0,yes,southeast,48673.5588\n",
        "26,male,27.265,3,no,northeast,4661.28635\n",
        "49,male,36.85,0,no,southeast,8125.7845\n",
        "60,female,35.1,0,no,southwest,12644.589\n",
        "26,female,29.355,2,no,northeast,4564.19145\n",
        "27,male,32.585,3,no,northeast,4846.92015\n",
        "44,female,32.34,1,no,southeast,7633.7206\n",
        "63,male,39.8,3,no,southwest,15170.069\n",
        "32,female,24.6,0,yes,southwest,17496.306\n",
        "22,male,28.31,1,no,northwest,2639.0429\n",
        "18,male,31.73,0,yes,northeast,33732.6867\n",
        "59,female,26.695,3,no,northwest,14382.70905\n",
        "44,female,27.5,1,no,southwest,7626.993\n",
        "33,male,24.605,2,no,northwest,5257.50795\n",
        "24,female,33.99,0,no,southeast,2473.3341\n",
        "43,female,26.885,0,yes,northwest,21774.32215\n",
        "45,male,22.895,0,yes,northeast,35069.37452\n",
        "61,female,28.2,0,no,southwest,13041.921\n",
        "35,female,34.21,1,no,southeast,5245.2269\n",
        "62,female,25,0,no,southwest,13451.122\n",
        "62,female,33.2,0,no,southwest,13462.52\n",
        "38,male,31,1,no,southwest,5488.262\n",
        "34,male,35.815,0,no,northwest,4320.41085\n",
        "43,male,23.2,0,no,southwest,6250.435\n",
        "50,male,32.11,2,no,northeast,25333.33284\n",
        "19,female,23.4,2,no,southwest,2913.569\n",
        "57,female,20.1,1,no,southwest,12032.326\n",
        "62,female,39.16,0,no,southeast,13470.8044\n",
        "41,male,34.21,1,no,southeast,6289.7549\n",
        "26,male,46.53,1,no,southeast,2927.0647\n",
        "39,female,32.5,1,no,southwest,6238.298\n",
        "46,male,25.8,5,no,southwest,10096.97\n",
        "45,female,35.3,0,no,southwest,7348.142\n",
        "32,male,37.18,2,no,southeast,4673.3922\n",
        "59,female,27.5,0,no,southwest,12233.828\n",
        "44,male,29.735,2,no,northeast,32108.66282\n",
        "39,female,24.225,5,no,northwest,8965.79575\n",
        "18,male,26.18,2,no,southeast,2304.0022\n",
        "53,male,29.48,0,no,southeast,9487.6442\n",
        "18,male,23.21,0,no,southeast,1121.8739\n",
        "50,female,46.09,1,no,southeast,9549.5651\n",
        "18,female,40.185,0,no,northeast,2217.46915\n",
        "19,male,22.61,0,no,northwest,1628.4709\n",
        "62,male,39.93,0,no,southeast,12982.8747\n",
        "56,female,35.8,1,no,southwest,11674.13\n",
        "42,male,35.8,2,no,southwest,7160.094\n",
        "37,male,34.2,1,yes,northeast,39047.285\n",
        "42,male,31.255,0,no,northwest,6358.77645\n",
        "25,male,29.7,3,yes,southwest,19933.458\n",
        "57,male,18.335,0,no,northeast,11534.87265\n",
        "51,male,42.9,2,yes,southeast,47462.894\n",
        "30,female,28.405,1,no,northwest,4527.18295\n",
        "44,male,30.2,2,yes,southwest,38998.546\n",
        "34,male,27.835,1,yes,northwest,20009.63365\n",
        "31,male,39.49,1,no,southeast,3875.7341\n",
        "54,male,30.8,1,yes,southeast,41999.52\n",
        "24,male,26.79,1,no,northwest,12609.88702\n",
        "43,male,34.96,1,yes,northeast,41034.2214\n",
        "48,male,36.67,1,no,northwest,28468.91901\n",
        "19,female,39.615,1,no,northwest,2730.10785\n",
        "29,female,25.9,0,no,southwest,3353.284\n",
        "63,female,35.2,1,no,southeast,14474.675\n",
        "46,male,24.795,3,no,northeast,9500.57305\n",
        "52,male,36.765,2,no,northwest,26467.09737\n",
        "35,male,27.1,1,no,southwest,4746.344\n",
        "51,male,24.795,2,yes,northwest,23967.38305\n",
        "44,male,25.365,1,no,northwest,7518.02535\n",
        "21,male,25.745,2,no,northeast,3279.86855\n",
        "39,female,34.32,5,no,southeast,8596.8278\n",
        "50,female,28.16,3,no,southeast,10702.6424\n",
        "34,female,23.56,0,no,northeast,4992.3764\n",
        "22,female,20.235,0,no,northwest,2527.81865\n",
        "19,female,40.5,0,no,southwest,1759.338\n",
        "26,male,35.42,0,no,southeast,2322.6218\n",
        "29,male,22.895,0,yes,northeast,16138.76205\n",
        "48,male,40.15,0,no,southeast,7804.1605\n",
        "26,male,29.15,1,no,southeast,2902.9065\n",
        "45,female,39.995,3,no,northeast,9704.66805\n",
        "36,female,29.92,0,no,southeast,4889.0368\n",
        "54,male,25.46,1,no,northeast,25517.11363\n",
        "34,male,21.375,0,no,northeast,4500.33925\n",
        "31,male,25.9,3,yes,southwest,19199.944\n",
        "27,female,30.59,1,no,northeast,16796.41194\n",
        "20,male,30.115,5,no,northeast,4915.05985\n",
        "44,female,25.8,1,no,southwest,7624.63\n",
        "43,male,30.115,3,no,northwest,8410.04685\n",
        "45,female,27.645,1,no,northwest,28340.18885\n",
        "34,male,34.675,0,no,northeast,4518.82625\n",
        "24,female,20.52,0,yes,northeast,14571.8908\n",
        "26,female,19.8,1,no,southwest,3378.91\n",
        "38,female,27.835,2,no,northeast,7144.86265\n",
        "50,female,31.6,2,no,southwest,10118.424\n",
        "38,male,28.27,1,no,southeast,5484.4673\n",
        "27,female,20.045,3,yes,northwest,16420.49455\n",
        "39,female,23.275,3,no,northeast,7986.47525\n",
        "39,female,34.1,3,no,southwest,7418.522\n",
        "63,female,36.85,0,no,southeast,13887.9685\n",
        "33,female,36.29,3,no,northeast,6551.7501\n",
        "36,female,26.885,0,no,northwest,5267.81815\n",
        "30,male,22.99,2,yes,northwest,17361.7661\n",
        "24,male,32.7,0,yes,southwest,34472.841\n",
        "24,male,25.8,0,no,southwest,1972.95\n",
        "48,male,29.6,0,no,southwest,21232.18226\n",
        "47,male,19.19,1,no,northeast,8627.5411\n",
        "29,male,31.73,2,no,northwest,4433.3877\n",
        "28,male,29.26,2,no,northeast,4438.2634\n",
        "47,male,28.215,3,yes,northwest,24915.22085\n",
        "25,male,24.985,2,no,northeast,23241.47453\n",
        "51,male,27.74,1,no,northeast,9957.7216\n",
        "48,female,22.8,0,no,southwest,8269.044\n",
        "43,male,20.13,2,yes,southeast,18767.7377\n",
        "61,female,33.33,4,no,southeast,36580.28216\n",
        "48,male,32.3,1,no,northwest,8765.249\n",
        "38,female,27.6,0,no,southwest,5383.536\n",
        "59,male,25.46,0,no,northwest,12124.9924\n",
        "19,female,24.605,1,no,northwest,2709.24395\n",
        "26,female,34.2,2,no,southwest,3987.926\n",
        "54,female,35.815,3,no,northwest,12495.29085\n",
        "21,female,32.68,2,no,northwest,26018.95052\n",
        "51,male,37,0,no,southwest,8798.593\n",
        "22,female,31.02,3,yes,southeast,35595.5898\n",
        "47,male,36.08,1,yes,southeast,42211.1382\n",
        "18,male,23.32,1,no,southeast,1711.0268\n",
        "47,female,45.32,1,no,southeast,8569.8618\n",
        "21,female,34.6,0,no,southwest,2020.177\n",
        "19,male,26.03,1,yes,northwest,16450.8947\n",
        "23,male,18.715,0,no,northwest,21595.38229\n",
        "54,male,31.6,0,no,southwest,9850.432\n",
        "37,female,17.29,2,no,northeast,6877.9801\n",
        "46,female,23.655,1,yes,northwest,21677.28345\n",
        "55,female,35.2,0,yes,southeast,44423.803\n",
        "30,female,27.93,0,no,northeast,4137.5227\n",
        "18,male,21.565,0,yes,northeast,13747.87235\n",
        "61,male,38.38,0,no,northwest,12950.0712\n",
        "54,female,23,3,no,southwest,12094.478\n",
        "22,male,37.07,2,yes,southeast,37484.4493\n",
        "45,female,30.495,1,yes,northwest,39725.51805\n",
        "22,male,28.88,0,no,northeast,2250.8352\n",
        "19,male,27.265,2,no,northwest,22493.65964\n",
        "35,female,28.025,0,yes,northwest,20234.85475\n",
        "18,male,23.085,0,no,northeast,1704.70015\n",
        "20,male,30.685,0,yes,northeast,33475.81715\n",
        "28,female,25.8,0,no,southwest,3161.454\n",
        "55,male,35.245,1,no,northeast,11394.06555\n",
        "43,female,24.7,2,yes,northwest,21880.82\n",
        "43,female,25.08,0,no,northeast,7325.0482\n",
        "22,male,52.58,1,yes,southeast,44501.3982\n",
        "25,female,22.515,1,no,northwest,3594.17085\n",
        "49,male,30.9,0,yes,southwest,39727.614\n",
        "44,female,36.955,1,no,northwest,8023.13545\n",
        "64,male,26.41,0,no,northeast,14394.5579\n",
        "49,male,29.83,1,no,northeast,9288.0267\n",
        "47,male,29.8,3,yes,southwest,25309.489\n",
        "27,female,21.47,0,no,northwest,3353.4703\n",
        "55,male,27.645,0,no,northwest,10594.50155\n",
        "48,female,28.9,0,no,southwest,8277.523\n",
        "45,female,31.79,0,no,southeast,17929.30337\n",
        "24,female,39.49,0,no,southeast,2480.9791\n",
        "32,male,33.82,1,no,northwest,4462.7218\n",
        "24,male,32.01,0,no,southeast,1981.5819\n",
        "57,male,27.94,1,no,southeast,11554.2236\n",
        "59,male,41.14,1,yes,southeast,48970.2476\n",
        "36,male,28.595,3,no,northwest,6548.19505\n",
        "29,female,25.6,4,no,southwest,5708.867\n",
        "42,female,25.3,1,no,southwest,7045.499\n",
        "48,male,37.29,2,no,southeast,8978.1851\n",
        "39,male,42.655,0,no,northeast,5757.41345\n",
        "63,male,21.66,1,no,northwest,14349.8544\n",
        "54,female,31.9,1,no,southeast,10928.849\n",
        "37,male,37.07,1,yes,southeast,39871.7043\n",
        "63,male,31.445,0,no,northeast,13974.45555\n",
        "21,male,31.255,0,no,northwest,1909.52745\n",
        "54,female,28.88,2,no,northeast,12096.6512\n",
        "60,female,18.335,0,no,northeast,13204.28565\n",
        "32,female,29.59,1,no,southeast,4562.8421\n",
        "47,female,32,1,no,southwest,8551.347\n",
        "21,male,26.03,0,no,northeast,2102.2647\n",
        "28,male,31.68,0,yes,southeast,34672.1472\n",
        "63,male,33.66,3,no,southeast,15161.5344\n",
        "18,male,21.78,2,no,southeast,11884.04858\n",
        "32,male,27.835,1,no,northwest,4454.40265\n",
        "38,male,19.95,1,no,northwest,5855.9025\n",
        "32,male,31.5,1,no,southwest,4076.497\n",
        "62,female,30.495,2,no,northwest,15019.76005\n",
        "39,female,18.3,5,yes,southwest,19023.26\n",
        "55,male,28.975,0,no,northeast,10796.35025\n",
        "57,male,31.54,0,no,northwest,11353.2276\n",
        "52,male,47.74,1,no,southeast,9748.9106\n",
        "56,male,22.1,0,no,southwest,10577.087\n",
        "47,male,36.19,0,yes,southeast,41676.0811\n",
        "55,female,29.83,0,no,northeast,11286.5387\n",
        "23,male,32.7,3,no,southwest,3591.48\n",
        "22,female,30.4,0,yes,northwest,33907.548\n",
        "50,female,33.7,4,no,southwest,11299.343\n",
        "18,female,31.35,4,no,northeast,4561.1885\n",
        "51,female,34.96,2,yes,northeast,44641.1974\n",
        "22,male,33.77,0,no,southeast,1674.6323\n",
        "52,female,30.875,0,no,northeast,23045.56616\n",
        "25,female,33.99,1,no,southeast,3227.1211\n",
        "33,female,19.095,2,yes,northeast,16776.30405\n",
        "53,male,28.6,3,no,southwest,11253.421\n",
        "29,male,38.94,1,no,southeast,3471.4096\n",
        "58,male,36.08,0,no,southeast,11363.2832\n",
        "37,male,29.8,0,no,southwest,20420.60465\n",
        "54,female,31.24,0,no,southeast,10338.9316\n",
        "49,female,29.925,0,no,northwest,8988.15875\n",
        "50,female,26.22,2,no,northwest,10493.9458\n",
        "26,male,30,1,no,southwest,2904.088\n",
        "45,male,20.35,3,no,southeast,8605.3615\n",
        "54,female,32.3,1,no,northeast,11512.405\n",
        "38,male,38.39,3,yes,southeast,41949.2441\n",
        "48,female,25.85,3,yes,southeast,24180.9335\n",
        "28,female,26.315,3,no,northwest,5312.16985\n",
        "23,male,24.51,0,no,northeast,2396.0959\n",
        "55,male,32.67,1,no,southeast,10807.4863\n",
        "41,male,29.64,5,no,northeast,9222.4026\n",
        "25,male,33.33,2,yes,southeast,36124.5737\n",
        "33,male,35.75,1,yes,southeast,38282.7495\n",
        "30,female,19.95,3,no,northwest,5693.4305\n",
        "23,female,31.4,0,yes,southwest,34166.273\n",
        "46,male,38.17,2,no,southeast,8347.1643\n",
        "53,female,36.86,3,yes,northwest,46661.4424\n",
        "27,female,32.395,1,no,northeast,18903.49141\n",
        "23,female,42.75,1,yes,northeast,40904.1995\n",
        "63,female,25.08,0,no,northwest,14254.6082\n",
        "55,male,29.9,0,no,southwest,10214.636\n",
        "35,female,35.86,2,no,southeast,5836.5204\n",
        "34,male,32.8,1,no,southwest,14358.36437\n",
        "19,female,18.6,0,no,southwest,1728.897\n",
        "39,female,23.87,5,no,southeast,8582.3023\n",
        "27,male,45.9,2,no,southwest,3693.428\n",
        "57,male,40.28,0,no,northeast,20709.02034\n",
        "52,female,18.335,0,no,northwest,9991.03765\n",
        "28,male,33.82,0,no,northwest,19673.33573\n",
        "50,female,28.12,3,no,northwest,11085.5868\n",
        "44,female,25,1,no,southwest,7623.518\n",
        "26,female,22.23,0,no,northwest,3176.2877\n",
        "33,male,30.25,0,no,southeast,3704.3545\n",
        "19,female,32.49,0,yes,northwest,36898.73308\n",
        "50,male,37.07,1,no,southeast,9048.0273\n",
        "41,female,32.6,3,no,southwest,7954.517\n",
        "52,female,24.86,0,no,southeast,27117.99378\n",
        "39,male,32.34,2,no,southeast,6338.0756\n",
        "50,male,32.3,2,no,southwest,9630.397\n",
        "52,male,32.775,3,no,northwest,11289.10925\n",
        "60,male,32.8,0,yes,southwest,52590.82939\n",
        "20,female,31.92,0,no,northwest,2261.5688\n",
        "55,male,21.5,1,no,southwest,10791.96\n",
        "42,male,34.1,0,no,southwest,5979.731\n",
        "18,female,30.305,0,no,northeast,2203.73595\n",
        "58,female,36.48,0,no,northwest,12235.8392\n",
        "43,female,32.56,3,yes,southeast,40941.2854\n",
        "35,female,35.815,1,no,northwest,5630.45785\n",
        "48,female,27.93,4,no,northwest,11015.1747\n",
        "36,female,22.135,3,no,northeast,7228.21565\n",
        "19,male,44.88,0,yes,southeast,39722.7462\n",
        "23,female,23.18,2,no,northwest,14426.07385\n",
        "20,female,30.59,0,no,northeast,2459.7201\n",
        "32,female,41.1,0,no,southwest,3989.841\n",
        "43,female,34.58,1,no,northwest,7727.2532\n",
        "34,male,42.13,2,no,southeast,5124.1887\n",
        "30,male,38.83,1,no,southeast,18963.17192\n",
        "18,female,28.215,0,no,northeast,2200.83085\n",
        "41,female,28.31,1,no,northwest,7153.5539\n",
        "35,female,26.125,0,no,northeast,5227.98875\n",
        "57,male,40.37,0,no,southeast,10982.5013\n",
        "29,female,24.6,2,no,southwest,4529.477\n",
        "32,male,35.2,2,no,southwest,4670.64\n",
        "37,female,34.105,1,no,northwest,6112.35295\n",
        "18,male,27.36,1,yes,northeast,17178.6824\n",
        "43,female,26.7,2,yes,southwest,22478.6\n",
        "56,female,41.91,0,no,southeast,11093.6229\n",
        "38,male,29.26,2,no,northwest,6457.8434\n",
        "29,male,32.11,2,no,northwest,4433.9159\n",
        "22,female,27.1,0,no,southwest,2154.361\n",
        "52,female,24.13,1,yes,northwest,23887.6627\n",
        "40,female,27.4,1,no,southwest,6496.886\n",
        "23,female,34.865,0,no,northeast,2899.48935\n",
        "31,male,29.81,0,yes,southeast,19350.3689\n",
        "42,female,41.325,1,no,northeast,7650.77375\n",
        "24,female,29.925,0,no,northwest,2850.68375\n",
        "25,female,30.3,0,no,southwest,2632.992\n",
        "48,female,27.36,1,no,northeast,9447.3824\n",
        "23,female,28.49,1,yes,southeast,18328.2381\n",
        "45,male,23.56,2,no,northeast,8603.8234\n",
        "20,male,35.625,3,yes,northwest,37465.34375\n",
        "62,female,32.68,0,no,northwest,13844.7972\n",
        "43,female,25.27,1,yes,northeast,21771.3423\n",
        "23,female,28,0,no,southwest,13126.67745\n",
        "31,female,32.775,2,no,northwest,5327.40025\n",
        "41,female,21.755,1,no,northeast,13725.47184\n",
        "58,female,32.395,1,no,northeast,13019.16105\n",
        "48,female,36.575,0,no,northwest,8671.19125\n",
        "31,female,21.755,0,no,northwest,4134.08245\n",
        "19,female,27.93,3,no,northwest,18838.70366\n",
        "19,female,30.02,0,yes,northwest,33307.5508\n",
        "41,male,33.55,0,no,southeast,5699.8375\n",
        "40,male,29.355,1,no,northwest,6393.60345\n",
        "31,female,25.8,2,no,southwest,4934.705\n",
        "37,male,24.32,2,no,northwest,6198.7518\n",
        "46,male,40.375,2,no,northwest,8733.22925\n",
        "22,male,32.11,0,no,northwest,2055.3249\n",
        "51,male,32.3,1,no,northeast,9964.06\n",
        "18,female,27.28,3,yes,southeast,18223.4512\n",
        "35,male,17.86,1,no,northwest,5116.5004\n",
        "59,female,34.8,2,no,southwest,36910.60803\n",
        "36,male,33.4,2,yes,southwest,38415.474\n",
        "37,female,25.555,1,yes,northeast,20296.86345\n",
        "59,male,37.1,1,no,southwest,12347.172\n",
        "36,male,30.875,1,no,northwest,5373.36425\n",
        "39,male,34.1,2,no,southeast,23563.01618\n",
        "18,male,21.47,0,no,northeast,1702.4553\n",
        "52,female,33.3,2,no,southwest,10806.839\n",
        "27,female,31.255,1,no,northwest,3956.07145\n",
        "18,male,39.14,0,no,northeast,12890.05765\n",
        "40,male,25.08,0,no,southeast,5415.6612\n",
        "29,male,37.29,2,no,southeast,4058.1161\n",
        "46,female,34.6,1,yes,southwest,41661.602\n",
        "38,female,30.21,3,no,northwest,7537.1639\n",
        "30,female,21.945,1,no,northeast,4718.20355\n",
        "40,male,24.97,2,no,southeast,6593.5083\n",
        "50,male,25.3,0,no,southeast,8442.667\n",
        "20,female,24.42,0,yes,southeast,26125.67477\n",
        "41,male,23.94,1,no,northeast,6858.4796\n",
        "33,female,39.82,1,no,southeast,4795.6568\n",
        "38,male,16.815,2,no,northeast,6640.54485\n",
        "42,male,37.18,2,no,southeast,7162.0122\n",
        "56,male,34.43,0,no,southeast,10594.2257\n",
        "58,male,30.305,0,no,northeast,11938.25595\n",
        "52,male,34.485,3,yes,northwest,60021.39897\n",
        "20,female,21.8,0,yes,southwest,20167.33603\n",
        "54,female,24.605,3,no,northwest,12479.70895\n",
        "58,male,23.3,0,no,southwest,11345.519\n",
        "45,female,27.83,2,no,southeast,8515.7587\n",
        "26,male,31.065,0,no,northwest,2699.56835\n",
        "63,female,21.66,0,no,northeast,14449.8544\n",
        "58,female,28.215,0,no,northwest,12224.35085\n",
        "37,male,22.705,3,no,northeast,6985.50695\n",
        "25,female,42.13,1,no,southeast,3238.4357\n",
        "52,male,41.8,2,yes,southeast,47269.854\n",
        "64,male,36.96,2,yes,southeast,49577.6624\n",
        "22,female,21.28,3,no,northwest,4296.2712\n",
        "28,female,33.11,0,no,southeast,3171.6149\n",
        "18,male,33.33,0,no,southeast,1135.9407\n",
        "28,male,24.3,5,no,southwest,5615.369\n",
        "45,female,25.7,3,no,southwest,9101.798\n",
        "33,male,29.4,4,no,southwest,6059.173\n",
        "18,female,39.82,0,no,southeast,1633.9618\n",
        "32,male,33.63,1,yes,northeast,37607.5277\n",
        "24,male,29.83,0,yes,northeast,18648.4217\n",
        "19,male,19.8,0,no,southwest,1241.565\n",
        "20,male,27.3,0,yes,southwest,16232.847\n",
        "40,female,29.3,4,no,southwest,15828.82173\n",
        "34,female,27.72,0,no,southeast,4415.1588\n",
        "42,female,37.9,0,no,southwest,6474.013\n",
        "51,female,36.385,3,no,northwest,11436.73815\n",
        "54,female,27.645,1,no,northwest,11305.93455\n",
        "55,male,37.715,3,no,northwest,30063.58055\n",
        "52,female,23.18,0,no,northeast,10197.7722\n",
        "32,female,20.52,0,no,northeast,4544.2348\n",
        "28,male,37.1,1,no,southwest,3277.161\n",
        "41,female,28.05,1,no,southeast,6770.1925\n",
        "43,female,29.9,1,no,southwest,7337.748\n",
        "49,female,33.345,2,no,northeast,10370.91255\n",
        "64,male,23.76,0,yes,southeast,26926.5144\n",
        "55,female,30.5,0,no,southwest,10704.47\n",
        "24,male,31.065,0,yes,northeast,34254.05335\n",
        "20,female,33.3,0,no,southwest,1880.487\n",
        "45,male,27.5,3,no,southwest,8615.3\n",
        "26,male,33.915,1,no,northwest,3292.52985\n",
        "25,female,34.485,0,no,northwest,3021.80915\n",
        "43,male,25.52,5,no,southeast,14478.33015\n",
        "35,male,27.61,1,no,southeast,4747.0529\n",
        "26,male,27.06,0,yes,southeast,17043.3414\n",
        "57,male,23.7,0,no,southwest,10959.33\n",
        "22,female,30.4,0,no,northeast,2741.948\n",
        "32,female,29.735,0,no,northwest,4357.04365\n",
        "39,male,29.925,1,yes,northeast,22462.04375\n",
        "25,female,26.79,2,no,northwest,4189.1131\n",
        "48,female,33.33,0,no,southeast,8283.6807\n",
        "47,female,27.645,2,yes,northwest,24535.69855\n",
        "18,female,21.66,0,yes,northeast,14283.4594\n",
        "18,male,30.03,1,no,southeast,1720.3537\n",
        "61,male,36.3,1,yes,southwest,47403.88\n",
        "47,female,24.32,0,no,northeast,8534.6718\n",
        "28,female,17.29,0,no,northeast,3732.6251\n",
        "36,female,25.9,1,no,southwest,5472.449\n",
        "20,male,39.4,2,yes,southwest,38344.566\n",
        "44,male,34.32,1,no,southeast,7147.4728\n",
        "38,female,19.95,2,no,northeast,7133.9025\n",
        "19,male,34.9,0,yes,southwest,34828.654\n",
        "21,male,23.21,0,no,southeast,1515.3449\n",
        "46,male,25.745,3,no,northwest,9301.89355\n",
        "58,male,25.175,0,no,northeast,11931.12525\n",
        "20,male,22,1,no,southwest,1964.78\n",
        "18,male,26.125,0,no,northeast,1708.92575\n",
        "28,female,26.51,2,no,southeast,4340.4409\n",
        "33,male,27.455,2,no,northwest,5261.46945\n",
        "19,female,25.745,1,no,northwest,2710.82855\n",
        "45,male,30.36,0,yes,southeast,62592.87309\n",
        "62,male,30.875,3,yes,northwest,46718.16325\n",
        "25,female,20.8,1,no,southwest,3208.787\n",
        "43,male,27.8,0,yes,southwest,37829.7242\n",
        "42,male,24.605,2,yes,northeast,21259.37795\n",
        "24,female,27.72,0,no,southeast,2464.6188\n",
        "29,female,21.85,0,yes,northeast,16115.3045\n",
        "32,male,28.12,4,yes,northwest,21472.4788\n",
        "25,female,30.2,0,yes,southwest,33900.653\n",
        "41,male,32.2,2,no,southwest,6875.961\n",
        "42,male,26.315,1,no,northwest,6940.90985\n",
        "33,female,26.695,0,no,northwest,4571.41305\n",
        "34,male,42.9,1,no,southwest,4536.259\n",
        "19,female,34.7,2,yes,southwest,36397.576\n",
        "30,female,23.655,3,yes,northwest,18765.87545\n",
        "18,male,28.31,1,no,northeast,11272.33139\n",
        "19,female,20.6,0,no,southwest,1731.677\n",
        "18,male,53.13,0,no,southeast,1163.4627\n",
        "35,male,39.71,4,no,northeast,19496.71917\n",
        "39,female,26.315,2,no,northwest,7201.70085\n",
        "31,male,31.065,3,no,northwest,5425.02335\n",
        "62,male,26.695,0,yes,northeast,28101.33305\n",
        "62,male,38.83,0,no,southeast,12981.3457\n",
        "42,female,40.37,2,yes,southeast,43896.3763\n",
        "31,male,25.935,1,no,northwest,4239.89265\n",
        "61,male,33.535,0,no,northeast,13143.33665\n",
        "42,female,32.87,0,no,northeast,7050.0213\n",
        "51,male,30.03,1,no,southeast,9377.9047\n",
        "23,female,24.225,2,no,northeast,22395.74424\n",
        "52,male,38.6,2,no,southwest,10325.206\n",
        "57,female,25.74,2,no,southeast,12629.1656\n",
        "23,female,33.4,0,no,southwest,10795.93733\n",
        "52,female,44.7,3,no,southwest,11411.685\n",
        "50,male,30.97,3,no,northwest,10600.5483\n",
        "18,female,31.92,0,no,northeast,2205.9808\n",
        "18,female,36.85,0,no,southeast,1629.8335\n",
        "21,female,25.8,0,no,southwest,2007.945\n",
        "61,female,29.07,0,yes,northwest,29141.3603\"\"\"\n",
        "\n",
        "with open(\"insurance.csv\", \"w+\") as f:\n",
        "    f.write(data_csv)"
      ],
      "metadata": {
        "cellView": "form",
        "id": "IiSjlTKeh_bU"
      },
      "execution_count": null,
      "outputs": []
    },
    {
      "cell_type": "code",
      "source": [
        "import pandas\n",
        "data = pandas.read_csv(\"insurance.csv\")\n",
        "data"
      ],
      "metadata": {
        "colab": {
          "base_uri": "https://localhost:8080/",
          "height": 424
        },
        "id": "LPHhTtSAkZeZ",
        "outputId": "3d636327-cbc1-40b8-fa21-648a72eec31e"
      },
      "execution_count": null,
      "outputs": [
        {
          "output_type": "execute_result",
          "data": {
            "text/plain": [
              "      age     sex     bmi  children smoker     region      charges\n",
              "0      19  female  27.900         0    yes  southwest  16884.92400\n",
              "1      18    male  33.770         1     no  southeast   1725.55230\n",
              "2      28    male  33.000         3     no  southeast   4449.46200\n",
              "3      33    male  22.705         0     no  northwest  21984.47061\n",
              "4      32    male  28.880         0     no  northwest   3866.85520\n",
              "...   ...     ...     ...       ...    ...        ...          ...\n",
              "1333   50    male  30.970         3     no  northwest  10600.54830\n",
              "1334   18  female  31.920         0     no  northeast   2205.98080\n",
              "1335   18  female  36.850         0     no  southeast   1629.83350\n",
              "1336   21  female  25.800         0     no  southwest   2007.94500\n",
              "1337   61  female  29.070         0    yes  northwest  29141.36030\n",
              "\n",
              "[1338 rows x 7 columns]"
            ],
            "text/html": [
              "\n",
              "  <div id=\"df-984578e6-112e-412b-8d6f-ddbf583956bd\">\n",
              "    <div class=\"colab-df-container\">\n",
              "      <div>\n",
              "<style scoped>\n",
              "    .dataframe tbody tr th:only-of-type {\n",
              "        vertical-align: middle;\n",
              "    }\n",
              "\n",
              "    .dataframe tbody tr th {\n",
              "        vertical-align: top;\n",
              "    }\n",
              "\n",
              "    .dataframe thead th {\n",
              "        text-align: right;\n",
              "    }\n",
              "</style>\n",
              "<table border=\"1\" class=\"dataframe\">\n",
              "  <thead>\n",
              "    <tr style=\"text-align: right;\">\n",
              "      <th></th>\n",
              "      <th>age</th>\n",
              "      <th>sex</th>\n",
              "      <th>bmi</th>\n",
              "      <th>children</th>\n",
              "      <th>smoker</th>\n",
              "      <th>region</th>\n",
              "      <th>charges</th>\n",
              "    </tr>\n",
              "  </thead>\n",
              "  <tbody>\n",
              "    <tr>\n",
              "      <th>0</th>\n",
              "      <td>19</td>\n",
              "      <td>female</td>\n",
              "      <td>27.900</td>\n",
              "      <td>0</td>\n",
              "      <td>yes</td>\n",
              "      <td>southwest</td>\n",
              "      <td>16884.92400</td>\n",
              "    </tr>\n",
              "    <tr>\n",
              "      <th>1</th>\n",
              "      <td>18</td>\n",
              "      <td>male</td>\n",
              "      <td>33.770</td>\n",
              "      <td>1</td>\n",
              "      <td>no</td>\n",
              "      <td>southeast</td>\n",
              "      <td>1725.55230</td>\n",
              "    </tr>\n",
              "    <tr>\n",
              "      <th>2</th>\n",
              "      <td>28</td>\n",
              "      <td>male</td>\n",
              "      <td>33.000</td>\n",
              "      <td>3</td>\n",
              "      <td>no</td>\n",
              "      <td>southeast</td>\n",
              "      <td>4449.46200</td>\n",
              "    </tr>\n",
              "    <tr>\n",
              "      <th>3</th>\n",
              "      <td>33</td>\n",
              "      <td>male</td>\n",
              "      <td>22.705</td>\n",
              "      <td>0</td>\n",
              "      <td>no</td>\n",
              "      <td>northwest</td>\n",
              "      <td>21984.47061</td>\n",
              "    </tr>\n",
              "    <tr>\n",
              "      <th>4</th>\n",
              "      <td>32</td>\n",
              "      <td>male</td>\n",
              "      <td>28.880</td>\n",
              "      <td>0</td>\n",
              "      <td>no</td>\n",
              "      <td>northwest</td>\n",
              "      <td>3866.85520</td>\n",
              "    </tr>\n",
              "    <tr>\n",
              "      <th>...</th>\n",
              "      <td>...</td>\n",
              "      <td>...</td>\n",
              "      <td>...</td>\n",
              "      <td>...</td>\n",
              "      <td>...</td>\n",
              "      <td>...</td>\n",
              "      <td>...</td>\n",
              "    </tr>\n",
              "    <tr>\n",
              "      <th>1333</th>\n",
              "      <td>50</td>\n",
              "      <td>male</td>\n",
              "      <td>30.970</td>\n",
              "      <td>3</td>\n",
              "      <td>no</td>\n",
              "      <td>northwest</td>\n",
              "      <td>10600.54830</td>\n",
              "    </tr>\n",
              "    <tr>\n",
              "      <th>1334</th>\n",
              "      <td>18</td>\n",
              "      <td>female</td>\n",
              "      <td>31.920</td>\n",
              "      <td>0</td>\n",
              "      <td>no</td>\n",
              "      <td>northeast</td>\n",
              "      <td>2205.98080</td>\n",
              "    </tr>\n",
              "    <tr>\n",
              "      <th>1335</th>\n",
              "      <td>18</td>\n",
              "      <td>female</td>\n",
              "      <td>36.850</td>\n",
              "      <td>0</td>\n",
              "      <td>no</td>\n",
              "      <td>southeast</td>\n",
              "      <td>1629.83350</td>\n",
              "    </tr>\n",
              "    <tr>\n",
              "      <th>1336</th>\n",
              "      <td>21</td>\n",
              "      <td>female</td>\n",
              "      <td>25.800</td>\n",
              "      <td>0</td>\n",
              "      <td>no</td>\n",
              "      <td>southwest</td>\n",
              "      <td>2007.94500</td>\n",
              "    </tr>\n",
              "    <tr>\n",
              "      <th>1337</th>\n",
              "      <td>61</td>\n",
              "      <td>female</td>\n",
              "      <td>29.070</td>\n",
              "      <td>0</td>\n",
              "      <td>yes</td>\n",
              "      <td>northwest</td>\n",
              "      <td>29141.36030</td>\n",
              "    </tr>\n",
              "  </tbody>\n",
              "</table>\n",
              "<p>1338 rows × 7 columns</p>\n",
              "</div>\n",
              "      <button class=\"colab-df-convert\" onclick=\"convertToInteractive('df-984578e6-112e-412b-8d6f-ddbf583956bd')\"\n",
              "              title=\"Convert this dataframe to an interactive table.\"\n",
              "              style=\"display:none;\">\n",
              "        \n",
              "  <svg xmlns=\"http://www.w3.org/2000/svg\" height=\"24px\"viewBox=\"0 0 24 24\"\n",
              "       width=\"24px\">\n",
              "    <path d=\"M0 0h24v24H0V0z\" fill=\"none\"/>\n",
              "    <path d=\"M18.56 5.44l.94 2.06.94-2.06 2.06-.94-2.06-.94-.94-2.06-.94 2.06-2.06.94zm-11 1L8.5 8.5l.94-2.06 2.06-.94-2.06-.94L8.5 2.5l-.94 2.06-2.06.94zm10 10l.94 2.06.94-2.06 2.06-.94-2.06-.94-.94-2.06-.94 2.06-2.06.94z\"/><path d=\"M17.41 7.96l-1.37-1.37c-.4-.4-.92-.59-1.43-.59-.52 0-1.04.2-1.43.59L10.3 9.45l-7.72 7.72c-.78.78-.78 2.05 0 2.83L4 21.41c.39.39.9.59 1.41.59.51 0 1.02-.2 1.41-.59l7.78-7.78 2.81-2.81c.8-.78.8-2.07 0-2.86zM5.41 20L4 18.59l7.72-7.72 1.47 1.35L5.41 20z\"/>\n",
              "  </svg>\n",
              "      </button>\n",
              "      \n",
              "  <style>\n",
              "    .colab-df-container {\n",
              "      display:flex;\n",
              "      flex-wrap:wrap;\n",
              "      gap: 12px;\n",
              "    }\n",
              "\n",
              "    .colab-df-convert {\n",
              "      background-color: #E8F0FE;\n",
              "      border: none;\n",
              "      border-radius: 50%;\n",
              "      cursor: pointer;\n",
              "      display: none;\n",
              "      fill: #1967D2;\n",
              "      height: 32px;\n",
              "      padding: 0 0 0 0;\n",
              "      width: 32px;\n",
              "    }\n",
              "\n",
              "    .colab-df-convert:hover {\n",
              "      background-color: #E2EBFA;\n",
              "      box-shadow: 0px 1px 2px rgba(60, 64, 67, 0.3), 0px 1px 3px 1px rgba(60, 64, 67, 0.15);\n",
              "      fill: #174EA6;\n",
              "    }\n",
              "\n",
              "    [theme=dark] .colab-df-convert {\n",
              "      background-color: #3B4455;\n",
              "      fill: #D2E3FC;\n",
              "    }\n",
              "\n",
              "    [theme=dark] .colab-df-convert:hover {\n",
              "      background-color: #434B5C;\n",
              "      box-shadow: 0px 1px 3px 1px rgba(0, 0, 0, 0.15);\n",
              "      filter: drop-shadow(0px 1px 2px rgba(0, 0, 0, 0.3));\n",
              "      fill: #FFFFFF;\n",
              "    }\n",
              "  </style>\n",
              "\n",
              "      <script>\n",
              "        const buttonEl =\n",
              "          document.querySelector('#df-984578e6-112e-412b-8d6f-ddbf583956bd button.colab-df-convert');\n",
              "        buttonEl.style.display =\n",
              "          google.colab.kernel.accessAllowed ? 'block' : 'none';\n",
              "\n",
              "        async function convertToInteractive(key) {\n",
              "          const element = document.querySelector('#df-984578e6-112e-412b-8d6f-ddbf583956bd');\n",
              "          const dataTable =\n",
              "            await google.colab.kernel.invokeFunction('convertToInteractive',\n",
              "                                                     [key], {});\n",
              "          if (!dataTable) return;\n",
              "\n",
              "          const docLinkHtml = 'Like what you see? Visit the ' +\n",
              "            '<a target=\"_blank\" href=https://colab.research.google.com/notebooks/data_table.ipynb>data table notebook</a>'\n",
              "            + ' to learn more about interactive tables.';\n",
              "          element.innerHTML = '';\n",
              "          dataTable['output_type'] = 'display_data';\n",
              "          await google.colab.output.renderOutput(dataTable, element);\n",
              "          const docLink = document.createElement('div');\n",
              "          docLink.innerHTML = docLinkHtml;\n",
              "          element.appendChild(docLink);\n",
              "        }\n",
              "      </script>\n",
              "    </div>\n",
              "  </div>\n",
              "  "
            ]
          },
          "metadata": {},
          "execution_count": 13
        }
      ]
    },
    {
      "cell_type": "markdown",
      "source": [
        "# Conversione di tutti i dati in numeri\n"
      ],
      "metadata": {
        "id": "ZxA2DvVWglJq"
      }
    },
    {
      "cell_type": "markdown",
      "source": [
        "Alcune parti del set di dati sono stringhe come \"male\" o \"yes\" (fuma), queste devono essere convertite in numeri (0 o 1) per essere usate come input per la regressione lineare."
      ],
      "metadata": {
        "id": "Wc-0YelzpIdb"
      }
    },
    {
      "cell_type": "code",
      "source": [
        "def sex_to_num(sex):\n",
        "    return 0.0 if sex == \"female\" else 1.0\n",
        "\n",
        "def smoker_to_num(smoker):\n",
        "    return 1.0 if smoker == \"yes\" else 0\n",
        "\n",
        "def region_to_north_number(region):\n",
        "    return 1 if region.startswith(\"north\") else 0\n",
        "\n",
        "def region_to_east_number(region):\n",
        "    return 1 if region.endswith(\"east\") else 0\n",
        "\n",
        "y = np.array(data['charges'])\n",
        "X = np.column_stack([\n",
        "     data['age'],\n",
        "     [sex_to_num(sex_i) for sex_i in data[\"sex\"]],\n",
        "     data['bmi'],\n",
        "     data['children'],\n",
        "     [smoker_to_num(smoker_i) for smoker_i in data[\"smoker\"]],\n",
        "     [region_to_north_number(region_i) for region_i in data[\"region\"]],\n",
        "     [region_to_east_number(region_i) for region_i in data[\"region\"]]\n",
        "     ])\n",
        "X.shape, y.shape"
      ],
      "metadata": {
        "colab": {
          "base_uri": "https://localhost:8080/"
        },
        "id": "j-ms3mxpkurW",
        "outputId": "96e2b902-30cd-45a1-81c5-cdb8eb6cf837"
      },
      "execution_count": null,
      "outputs": [
        {
          "output_type": "execute_result",
          "data": {
            "text/plain": [
              "((1338, 7), (1338,))"
            ]
          },
          "metadata": {},
          "execution_count": 14
        }
      ]
    },
    {
      "cell_type": "markdown",
      "source": [
        "# Normalizzazione dei dati per leggere meglio l'importanza delle feature\n"
      ],
      "metadata": {
        "id": "0BP-tYhfwdYB"
      }
    },
    {
      "cell_type": "markdown",
      "source": [
        "Ognuna delle feature (coordinate) è normalizzata per avere media $= 0$ e deviazione standard $= 1$. Ciò consentirà di leggere il peso (parametro del modello lineare) associato a ciascuna coordinata come l'importanza (positiva o negativa) di quella coordinata per la previsione finale. Se i dati non sono normalizzati, le informazioni sull'importanza verranno mescolate con le informazioni sull'intervallo di variazione tipico per quella variabile (se `smoker` va da $0$ a $1$ e `bmi` da $10$ a $30$ allora il coefficiente di `bmi` sarà di circa $ 20 $ volte inferiore al coefficiente di `smoker` se hanno la stessa importanza.)\n"
      ],
      "metadata": {
        "id": "iDypGLicg5_I"
      }
    },
    {
      "cell_type": "code",
      "source": [
        "import sklearn\n",
        "from sklearn import preprocessing\n",
        "import sklearn.linear_model\n",
        "\n",
        "scaler_x = preprocessing.StandardScaler().fit(X)\n",
        "X = scaler_x.transform(X)\n",
        "\n",
        "scaler_y = preprocessing.StandardScaler().fit(y.reshape(-1, 1))\n",
        "y = scaler_y.transform(y.reshape(-1, 1))\n",
        "print(X.mean(), X.std(), y.mean(), y.std())"
      ],
      "metadata": {
        "colab": {
          "base_uri": "https://localhost:8080/"
        },
        "id": "glyPhiVKkmVK",
        "outputId": "9563aafd-caac-4421-b19f-279377907640"
      },
      "execution_count": null,
      "outputs": [
        {
          "output_type": "stream",
          "name": "stdout",
          "text": [
            "1.4641762545558332e-16 1.0000000000000002 3.982862868610427e-18 1.0\n"
          ]
        }
      ]
    },
    {
      "cell_type": "markdown",
      "source": [
        "# Esecuzione del fit e convalida del nostro modello rispetto a un'implementazione ufficiale\n"
      ],
      "metadata": {
        "id": "mhI-0qEsnYxN"
      }
    },
    {
      "cell_type": "code",
      "source": [
        "insurance_model = MyLinearRegression()\n",
        "insurance_model.fit(X, y)\n",
        "\n",
        "sk_model = sklearn.linear_model.LinearRegression()\n",
        "sk_model.fit(X, y)\n",
        "\n",
        "my_params = insurance_model.parameters\n",
        "official_params = sk_model.coef_, sk_model.intercept_\n",
        "print(my_params, official_params)"
      ],
      "metadata": {
        "colab": {
          "base_uri": "https://localhost:8080/"
        },
        "id": "41vxvx11ioGc",
        "outputId": "05bdb3c3-a964-4589-ec06-0829e76619cb"
      },
      "execution_count": null,
      "outputs": [
        {
          "output_type": "stream",
          "name": "stdout",
          "text": [
            "[[ 2.98212857e-01]\n",
            " [-5.39786540e-03]\n",
            " [ 1.69696204e-01]\n",
            " [ 4.73296959e-02]\n",
            " [ 7.94758914e-01]\n",
            " [ 3.38692540e-02]\n",
            " [ 5.63333402e-03]\n",
            " [-3.25911173e-16]] (array([[ 0.29821286, -0.00539787,  0.1696962 ,  0.0473297 ,  0.79475891,\n",
            "         0.03386925,  0.00563333]]), array([1.40746533e-16]))\n"
          ]
        }
      ]
    },
    {
      "cell_type": "markdown",
      "source": [
        "Dopo aver convalidato che la nostra implementazione del modello lineare è corretta confrontandola con l'implementazione trovata sulla famosa libreria `sklearn` (l'intercetta calcolato nella libreria è un po' più precisa ma al livello di $10^{-16}$ le approssimazioni numeriche che vediamo sono largamente accettabili), possiamo procedere con alcune considerazioni qualitative estratte dall'osservare le importanze (pesi) sopra ottenuti per ogni feature (coordinata) e con una visualizzazione delle proiezioni in 2D di questo iperpiano di miglior fit."
      ],
      "metadata": {
        "id": "5MQgwVjVjLDs"
      }
    },
    {
      "cell_type": "markdown",
      "source": [
        "# Importanze delle feature (coordinate) e sanity check (i risultati hanno senso?)\n"
      ],
      "metadata": {
        "id": "7d230PFak107"
      }
    },
    {
      "cell_type": "code",
      "source": [
        "feature_names = [\"age\", \"sex\", \"bmi\", \"children\", \"smoker\", \"north_position\", \"east_position\"]\n",
        "for name, importance in zip(feature_names, my_params):\n",
        "    print(name, importance)"
      ],
      "metadata": {
        "colab": {
          "base_uri": "https://localhost:8080/"
        },
        "id": "RApMeFqkk6Wh",
        "outputId": "71aadc4b-d77d-4556-914e-e69b583f9ca0"
      },
      "execution_count": null,
      "outputs": [
        {
          "output_type": "stream",
          "name": "stdout",
          "text": [
            "age [0.29821286]\n",
            "sex [-0.00539787]\n",
            "bmi [0.1696962]\n",
            "children [0.0473297]\n",
            "smoker [0.79475891]\n",
            "north_position [0.03386925]\n",
            "east_position [0.00563333]\n"
          ]
        }
      ]
    },
    {
      "cell_type": "markdown",
      "source": [
        "Da questo elenco possiamo dedurre che le spese mediche inerenti all'assicurazione dipendono molto fortemente dal fatto che la persona sia un fumatore o meno, con un coefficiente di ~0,79, che è molto ragionevole [dato l'alto rischio dato dal fumare](https://www.who.int/news-room/fact-sheets/detail/tobacco), l'età è il secondo fattore di rischio con un coefficiente di ~0,30 che è anche molto ragionevole dato che la frequenza e la gravità delle malattie aumenta con l'età, e il terzo fattore di rischio è bmi con ~0,17 che è anche molto ragionevole dato che un bmi molto alto può causare problemi di salute. Le altre variabili hanno tutte un'importanza molto piccola. Abbiamo ottenuto risultati molto ragionevoli, che ci danno ulteriore fiducia nella correttezza e utilità del nostro modello lineare."
      ],
      "metadata": {
        "id": "ITT6eGjSlFtT"
      }
    },
    {
      "cell_type": "markdown",
      "source": [
        "# Visualizzazione tramite proiezioni in 2D"
      ],
      "metadata": {
        "id": "Raptzy7Dk5ye"
      }
    },
    {
      "cell_type": "markdown",
      "source": [
        "Il processo seguente è simile alla ricerca delle linee che sono proiezioni del piano 2d che vive in 3d ma in dimensioni superiori, in dimensioni superiori non possiamo vedere l'intero iper-piano in una volta ma possiamo comunque vedere le proiezioni bidimensionali una alla volta.\n"
      ],
      "metadata": {
        "id": "NJKXLBX_p_lA"
      }
    },
    {
      "cell_type": "code",
      "source": [
        "for i in range(6):\n",
        "    plt.scatter(X[:, i], y)\n",
        "    plt.xlabel(feature_names[i])\n",
        "    plt.ylabel(\"Insurance cost\")\n",
        "\n",
        "    variable_only_preds = insurance_model.parameters[i]*X[:, i] + insurance_model.parameters[-1]\n",
        "    plt.plot(X[:, i], variable_only_preds)\n",
        "    plt.show()"
      ],
      "metadata": {
        "colab": {
          "base_uri": "https://localhost:8080/",
          "height": 1000
        },
        "id": "kCPpcYpkqCxk",
        "outputId": "faed1ecf-8f5a-4ef0-c60f-e577e75aadb7"
      },
      "execution_count": null,
      "outputs": [
        {
          "output_type": "display_data",
          "data": {
            "text/plain": [
              "<Figure size 432x288 with 1 Axes>"
            ],
            "image/png": "[encoded data removed]"
          },
          "metadata": {
            "needs_background": "light"
          }
        },
        {
          "output_type": "display_data",
          "data": {
            "text/plain": [
              "<Figure size 432x288 with 1 Axes>"
            ],
            "image/png": "[encoded data removed]"
          },
          "metadata": {
            "needs_background": "light"
          }
        },
        {
          "output_type": "display_data",
          "data": {
            "text/plain": [
              "<Figure size 432x288 with 1 Axes>"
            ],
            "image/png": "[encoded data removed]"
          },
          "metadata": {
            "needs_background": "light"
          }
        },
        {
          "output_type": "display_data",
          "data": {
            "text/plain": [
              "<Figure size 432x288 with 1 Axes>"
            ],
            "image/png": "[encoded data removed]"
          },
          "metadata": {
            "needs_background": "light"
          }
        },
        {
          "output_type": "display_data",
          "data": {
            "text/plain": [
              "<Figure size 432x288 with 1 Axes>"
            ],
            "image/png": "[encoded data removed]"
          },
          "metadata": {
            "needs_background": "light"
          }
        },
        {
          "output_type": "display_data",
          "data": {
            "text/plain": [
              "<Figure size 432x288 with 1 Axes>"
            ],
            "image/png": "[encoded data removed]"
          },
          "metadata": {
            "needs_background": "light"
          }
        }
      ]
    },
    {
      "cell_type": "markdown",
      "source": [
        "Ora possiamo anche vedere visivamente e chiaramente quali caratteristiche sono importanti per il rischio per la salute (quantificato come denaro richiesto dall'assicurazione)."
      ],
      "metadata": {
        "id": "rTnMDbnamnvz"
      }
    },
    {
      "cell_type": "markdown",
      "source": [
        "# Insiemi di Training e Validation"
      ],
      "metadata": {
        "id": "IIpa8vbDNNkI"
      }
    },
    {
      "cell_type": "markdown",
      "source": [
        "In generale nel machine learning si possono utilizzare modelli molto più complessi rispetto a modelli lineari. Se il numero di parametri di un modello aumenta allora diminuirà l'errore di previsione sui dati utilizzati per allenare (svolgere il fit del) il modello, ma, questa performance potrebbe aumentare a causa della \"memorizzazione\" della $y$ per punti noti (ovvero il modello si basa su pattern specifici degli esempi che gli diamo come input che però non generalizzano) invece che a causa di una sostanziale miglioria della qualità dell'adattamento tra \"spiegazione\" (modello) e dati. Questo è il fenomeno dell'overfitting.\n",
        "\n",
        "Possiamo accorgerci della presenza di overfitting dividendo il dataset in training (di solito ~80%) e validation (di solito ~20%) e osservando la performance del modello sul dataset di validation. Nell'esempio di prima ho utilizzato un solo dataset per allenemento e valutazione della performance perché è molto improbabile avere overfitting con un modello lineare, perché un modello lineare è il modello più semplice possibile per un problema di regressione. Comunque è importante tenere a mente questa considerazione quando si lavora con modelli più complessi."
      ],
      "metadata": {
        "id": "A2Cb7S4mNTGP"
      }
    },
    {
      "cell_type": "markdown",
      "source": [
        "# Materiali interessanti per approfondire"
      ],
      "metadata": {
        "id": "RT5kvd_-Pny7"
      }
    },
    {
      "cell_type": "markdown",
      "source": [
        "- Discussione del problema del fit lineare più dettagliata dal punto di vista matematico: https://mathworld.wolfram.com/LeastSquaresFitting.html\n",
        "\n",
        "- Generalizzazione a funzioni non-lineari: https://mathworld.wolfram.com/NonlinearLeastSquaresFitting.html\n",
        "\n",
        "- Le reti neurali artificiali, lo stato dell'arte dell'intelligenza artificiale, non sono altro che un'enormità di modelli lineari collegati in maniera appropriata (con funzioni di attivazione non-lineari) tra loro e allenati (l'allenamento è la ricerca dei pesi ottimali) in maniera progressiva invece che con una singola operazione: https://www.youtube.com/playlist?list=PLZHQObOWTQDNU6R1_67000Dx_ZCJB-3pi"
      ],
      "metadata": {
        "id": "dDM2udgsPp84"
      }
    }
  ]
}
